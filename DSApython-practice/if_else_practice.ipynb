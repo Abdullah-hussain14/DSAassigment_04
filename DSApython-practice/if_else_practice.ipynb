{
  "nbformat": 4,
  "nbformat_minor": 0,
  "metadata": {
    "colab": {
      "provenance": []
    },
    "kernelspec": {
      "name": "python3",
      "display_name": "Python 3"
    },
    "language_info": {
      "name": "python"
    }
  },
  "cells": [
    {
      "cell_type": "code",
      "execution_count": 4,
      "metadata": {
        "colab": {
          "base_uri": "https://localhost:8080/"
        },
        "id": "ZdFDlW29YM1O",
        "outputId": "4d68ea6f-ffaf-4391-b862-263ee02f1e6c"
      },
      "outputs": [
        {
          "output_type": "stream",
          "name": "stdout",
          "text": [
            "enter your marks = 80\n",
            "system error\n"
          ]
        }
      ],
      "source": [
        "marks = input(\"enter your marks = \")\n",
        "if marks >= '80' and marks <= '100':\n",
        "  print(\"A+\")\n",
        "elif marks >= '70' and marks < '80':\n",
        "  print(\"A\")\n",
        "elif marks >= '60' and marks < '70':\n",
        "  print(\"B\")\n",
        "elif marks >= '50' and marks < '60':\n",
        "  print(\"c\")\n",
        "elif marks >= '0' and marks < '50':\n",
        "  print(\"Fail\")\n",
        "else:\n",
        "  print(\"system error\")"
      ]
    },
    {
      "cell_type": "code",
      "source": [
        "marks = input(\"enter your marks = \")\n",
        "if marks >= '80' and marks <= '100':\n",
        "  print(\"A+\")\n",
        "elif marks >= '70' and marks < '80':\n",
        "  print(\"A\")\n",
        "elif marks >= '60' and marks < '70':\n",
        "  print(\"B\")\n",
        "elif marks >= '50' and marks < '60':\n",
        "  print(\"c\")\n",
        "elif marks >= '0' and marks < '50':\n",
        "  print(\"Fail\")\n",
        "else:\n",
        "  print(\"system error\")"
      ],
      "metadata": {
        "colab": {
          "base_uri": "https://localhost:8080/"
        },
        "id": "1QnXTjI8qpb7",
        "outputId": "e60e1ac9-8c5c-4b8f-d223-ca0773bc7d41"
      },
      "execution_count": 5,
      "outputs": [
        {
          "output_type": "stream",
          "name": "stdout",
          "text": [
            "enter your marks = 45\n",
            "Fail\n"
          ]
        }
      ]
    },
    {
      "cell_type": "code",
      "source": [
        "marks = int(input(\"enter your marks = \"))\n",
        "if marks >= 80 and marks <= 100:\n",
        "  print(\"A+\")\n",
        "elif marks >= 70 and marks < 80:\n",
        "  print(\"A\")\n",
        "elif marks >= 60 and marks < 70:\n",
        "  print(\"B\")\n",
        "elif marks >= 50 and marks < 60:\n",
        "  print(\"c\")\n",
        "elif marks >= 0 and marks < 50:\n",
        "  print(\"Fail\")\n",
        "else:\n",
        "  print(\"system error\")"
      ],
      "metadata": {
        "colab": {
          "base_uri": "https://localhost:8080/"
        },
        "id": "Mul4e5ybqtYn",
        "outputId": "5e48099e-477e-4d9f-ae1d-d84ed17a3533"
      },
      "execution_count": 8,
      "outputs": [
        {
          "output_type": "stream",
          "name": "stdout",
          "text": [
            "enter your marks = 89\n",
            "A+\n"
          ]
        }
      ]
    },
    {
      "cell_type": "code",
      "source": [
        "age = 17\n",
        "citizen = True\n",
        "if age <= age:\n",
        "  if citizen:\n",
        "    print(\"you can vote\")\n",
        "  else:\n",
        "    print(\"you can't give vote\")\n",
        "else:\n",
        "  print(\"you're too young\")"
      ],
      "metadata": {
        "colab": {
          "base_uri": "https://localhost:8080/"
        },
        "id": "V9-zxlClsB49",
        "outputId": "dbe321e5-84d0-45ca-a0cc-6a3689cdee01"
      },
      "execution_count": 14,
      "outputs": [
        {
          "output_type": "stream",
          "name": "stdout",
          "text": [
            "you can vote\n"
          ]
        }
      ]
    },
    {
      "cell_type": "code",
      "source": [
        "num = int(input('enter any number = '))\n",
        "if num % 2 == 0 and num > 50:\n",
        "  print(\"Even and big\")\n",
        "elif num % 2 == 0 and num <= 50:\n",
        "  print('even and small')\n",
        "elif num % 2 != 0 and num > 50:\n",
        "  print('odd and big')\n",
        "else:\n",
        "  print('odd and small')"
      ],
      "metadata": {
        "colab": {
          "base_uri": "https://localhost:8080/"
        },
        "id": "XN07z0qqtaqU",
        "outputId": "8e7e29f3-b4f3-4513-ddce-374c62103832"
      },
      "execution_count": 17,
      "outputs": [
        {
          "output_type": "stream",
          "name": "stdout",
          "text": [
            "enter any number = 12\n",
            "even and small\n"
          ]
        }
      ]
    },
    {
      "cell_type": "code",
      "source": [
        "age = int(input('enter your age = '))\n",
        "user_pass = input('do you have vip pass  ').lower()\n",
        "py_input = user_pass == 'True'\n",
        "if age >= 18:\n",
        "  print('you can pass')\n",
        "elif age <= 18:\n",
        "  print('you stopped')\n",
        "elif py_input == py_input:\n",
        "  print('thank you')\n",
        "else:\n",
        "  print('sorry')"
      ],
      "metadata": {
        "colab": {
          "base_uri": "https://localhost:8080/"
        },
        "id": "LruNYkCqvQBh",
        "outputId": "879a188e-5228-4a97-8e17-6a346bc3140a"
      },
      "execution_count": 22,
      "outputs": [
        {
          "output_type": "stream",
          "name": "stdout",
          "text": [
            "enter your age = 72\n",
            "do you have vip pass  no\n",
            "you can pass\n"
          ]
        }
      ]
    },
    {
      "cell_type": "code",
      "source": [
        "user = input(\"Do you like python =  \")\n",
        "if user =='Yes'.lower():\n",
        "  print(\"wellcome pythonist\")\n",
        "else:\n",
        "  print(\"you'll like it soon\")"
      ],
      "metadata": {
        "colab": {
          "base_uri": "https://localhost:8080/"
        },
        "id": "1bv7aVhjwyYm",
        "outputId": "7f0b413b-d403-488d-aa90-a378d5765e17"
      },
      "execution_count": 6,
      "outputs": [
        {
          "output_type": "stream",
          "name": "stdout",
          "text": [
            "Do you like python =  yes\n",
            "wellcome pythonist\n"
          ]
        }
      ]
    },
    {
      "cell_type": "code",
      "source": [
        "no = int(input('enter numeber = '))\n",
        "if no < 0:\n",
        "  print('negative')\n",
        "elif no > 0:\n",
        "  print('positive')\n",
        "elif no == 0:\n",
        "  print('zero')\n",
        "else:\n",
        "  print(\"it's not a no\")"
      ],
      "metadata": {
        "colab": {
          "base_uri": "https://localhost:8080/"
        },
        "id": "cVVdmGgTyyQ6",
        "outputId": "50f67da6-6f7d-447c-a29c-ace49bede734"
      },
      "execution_count": 10,
      "outputs": [
        {
          "output_type": "stream",
          "name": "stdout",
          "text": [
            "enter numeber = 87\n",
            "positive\n"
          ]
        }
      ]
    },
    {
      "cell_type": "code",
      "source": [
        "std = input('Are you a student ?\\n').lower()\n",
        "id_std = input('do you have id ?\\n')lower()\n",
        "if std == \"yes\" and id_std == 'yes':\n",
        "  print('Discount for you')\n",
        "else:\n",
        "  print('discounts are only for students')"
      ],
      "metadata": {
        "colab": {
          "base_uri": "https://localhost:8080/",
          "height": 110
        },
        "id": "v7uVnyDb0e9l",
        "outputId": "03661d95-02dd-42c2-d92d-ec7eb89ceb03"
      },
      "execution_count": 17,
      "outputs": [
        {
          "output_type": "error",
          "ename": "SyntaxError",
          "evalue": "invalid syntax (ipython-input-2503978606.py, line 2)",
          "traceback": [
            "\u001b[0;36m  File \u001b[0;32m\"/tmp/ipython-input-2503978606.py\"\u001b[0;36m, line \u001b[0;32m2\u001b[0m\n\u001b[0;31m    id_std = input('do you have id ?\\n')lower()\u001b[0m\n\u001b[0m                                        ^\u001b[0m\n\u001b[0;31mSyntaxError\u001b[0m\u001b[0;31m:\u001b[0m invalid syntax\n"
          ]
        }
      ]
    },
    {
      "cell_type": "code",
      "source": [
        "order = input('Do want tea ? \\n').lower()\n",
        "order_1 = input('Do want sugar ? \\n').lower()\n",
        "if order == 'yes' and order_1 == 'yes':\n",
        "  print(\"tea with sugar\")\n",
        "elif order == 'yes' and order_1 == 'no':\n",
        "  print(\"tea without sugar\")\n",
        "else:\n",
        "  print(\"tea is not for you \")"
      ],
      "metadata": {
        "colab": {
          "base_uri": "https://localhost:8080/"
        },
        "id": "m8Dhml8V2ibC",
        "outputId": "7a6561b1-1a36-4a45-8613-4a0e672f3a18"
      },
      "execution_count": 20,
      "outputs": [
        {
          "output_type": "stream",
          "name": "stdout",
          "text": [
            "Do want tea ? \n",
            "no\n",
            "Do want sugar ? \n",
            "no\n",
            "tea is not for you \n"
          ]
        }
      ]
    },
    {
      "cell_type": "code",
      "source": [
        "no = int(input('give number = '))\n",
        "if no % 3==0 and no % 5==0:\n",
        "  print(\"FIZZBUZZ\")\n",
        "elif  no % 3==0:\n",
        "  print(\"FIZZ\")\n",
        "elif no % 5==0:\n",
        "  print(\"BUZZ\")\n",
        "else:\n",
        "  print(no)"
      ],
      "metadata": {
        "colab": {
          "base_uri": "https://localhost:8080/"
        },
        "id": "bpS8Q9ww4jGw",
        "outputId": "94d73fdb-244d-4cd3-cffe-49ead28b04ff"
      },
      "execution_count": 27,
      "outputs": [
        {
          "output_type": "stream",
          "name": "stdout",
          "text": [
            "give number = 50\n",
            "BUZZ\n"
          ]
        }
      ]
    },
    {
      "cell_type": "code",
      "source": [],
      "metadata": {
        "id": "fIvsoa3H1im2"
      },
      "execution_count": null,
      "outputs": []
    }
  ]
}