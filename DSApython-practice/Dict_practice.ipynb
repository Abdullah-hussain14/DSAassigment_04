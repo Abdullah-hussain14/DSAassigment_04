{
  "nbformat": 4,
  "nbformat_minor": 0,
  "metadata": {
    "colab": {
      "provenance": []
    },
    "kernelspec": {
      "name": "python3",
      "display_name": "Python 3"
    },
    "language_info": {
      "name": "python"
    }
  },
  "cells": [
    {
      "cell_type": "code",
      "execution_count": null,
      "metadata": {
        "colab": {
          "base_uri": "https://localhost:8080/",
          "height": 36
        },
        "id": "nYX2efmcXFrD",
        "outputId": "9ba69d75-90c2-4514-93e6-0447ff8b279f"
      },
      "outputs": [
        {
          "output_type": "execute_result",
          "data": {
            "text/plain": [
              "'Bags'"
            ],
            "application/vnd.google.colaboratory.intrinsic+json": {
              "type": "string"
            }
          },
          "metadata": {},
          "execution_count": 3
        }
      ],
      "source": [
        "brand = {\n",
        "    'name':'J.',\n",
        "    'product':'Bags',\n",
        "    'price':40000\n",
        "}\n",
        "brand['product']"
      ]
    },
    {
      "cell_type": "code",
      "source": [
        "brand = {\n",
        "    'name':'J.',\n",
        "    'product':'Bags',\n",
        "    'price':[45000,98000,78900,567890]\n",
        "}\n",
        "len(brand)\n",
        "type(brand)"
      ],
      "metadata": {
        "colab": {
          "base_uri": "https://localhost:8080/"
        },
        "id": "HLlGNj6jX_x9",
        "outputId": "8467b879-e296-4fcb-9238-cbbb8655a1c4"
      },
      "execution_count": null,
      "outputs": [
        {
          "output_type": "execute_result",
          "data": {
            "text/plain": [
              "dict"
            ]
          },
          "metadata": {},
          "execution_count": 6
        }
      ]
    },
    {
      "cell_type": "code",
      "source": [
        "brand = {\n",
        "    'name':'J.',\n",
        "    'product':'Bags',\n",
        "    'price':[45000,98000,78900,567890]\n",
        "}\n",
        "brand['price']"
      ],
      "metadata": {
        "colab": {
          "base_uri": "https://localhost:8080/"
        },
        "id": "kSiw_TP6YZZS",
        "outputId": "131980ff-884f-4db0-f7d8-c43adb4f050f"
      },
      "execution_count": null,
      "outputs": [
        {
          "output_type": "execute_result",
          "data": {
            "text/plain": [
              "[45000, 98000, 78900, 567890]"
            ]
          },
          "metadata": {},
          "execution_count": 5
        }
      ]
    },
    {
      "cell_type": "code",
      "source": [
        "Brand = dict(name = \"J.\", product = \"Shalwar kameez\", category = \"male & female\")\n",
        "Brand['category']"
      ],
      "metadata": {
        "colab": {
          "base_uri": "https://localhost:8080/",
          "height": 36
        },
        "id": "rSbaTFeGYrTm",
        "outputId": "3d20868d-b6c2-4668-c039-fd63f9983020"
      },
      "execution_count": null,
      "outputs": [
        {
          "output_type": "execute_result",
          "data": {
            "text/plain": [
              "'male & female'"
            ],
            "application/vnd.google.colaboratory.intrinsic+json": {
              "type": "string"
            }
          },
          "metadata": {},
          "execution_count": 11
        }
      ]
    },
    {
      "cell_type": "code",
      "source": [
        "Brand['category'] = 'unisex'\n",
        "Brand"
      ],
      "metadata": {
        "colab": {
          "base_uri": "https://localhost:8080/"
        },
        "id": "Z59lZuy1ZNmJ",
        "outputId": "c34f187f-513f-4670-82dc-2aac12aaf899"
      },
      "execution_count": null,
      "outputs": [
        {
          "output_type": "execute_result",
          "data": {
            "text/plain": [
              "{'name': 'J.', 'product': 'Shalwar kameez', 'category': 'unisex'}"
            ]
          },
          "metadata": {},
          "execution_count": 12
        }
      ]
    },
    {
      "cell_type": "code",
      "source": [
        "Brand"
      ],
      "metadata": {
        "colab": {
          "base_uri": "https://localhost:8080/"
        },
        "id": "m0DfPyQ-aHPv",
        "outputId": "4bbb04ec-b8f1-4d68-bf66-9bfa2494fcf5"
      },
      "execution_count": null,
      "outputs": [
        {
          "output_type": "execute_result",
          "data": {
            "text/plain": [
              "{'name': 'J.', 'product': 'Shalwar kameez', 'category': 'unisex'}"
            ]
          },
          "metadata": {},
          "execution_count": 13
        }
      ]
    },
    {
      "cell_type": "code",
      "source": [
        "Brand.update({'product':\"pant shirts\"})\n",
        "Brand"
      ],
      "metadata": {
        "colab": {
          "base_uri": "https://localhost:8080/"
        },
        "id": "1ffzrnOSaRLW",
        "outputId": "7bc0fe15-7d13-44de-dc24-e77176fb2ae9"
      },
      "execution_count": null,
      "outputs": [
        {
          "output_type": "execute_result",
          "data": {
            "text/plain": [
              "{'name': 'J.', 'product': 'pant shirts', 'category': 'unisex'}"
            ]
          },
          "metadata": {},
          "execution_count": 14
        }
      ]
    },
    {
      "cell_type": "code",
      "source": [
        "Brand[\"price\"] = 9999\n",
        "Brand"
      ],
      "metadata": {
        "colab": {
          "base_uri": "https://localhost:8080/"
        },
        "id": "P525ufFBat_m",
        "outputId": "b62fa0dd-62b1-4996-e929-1c65504cd656"
      },
      "execution_count": null,
      "outputs": [
        {
          "output_type": "execute_result",
          "data": {
            "text/plain": [
              "{'name': 'J.', 'product': 'pant shirts', 'category': 'unisex', 'price': 9999}"
            ]
          },
          "metadata": {},
          "execution_count": 15
        }
      ]
    },
    {
      "cell_type": "code",
      "source": [
        "Brand.pop('category')\n",
        "Brand"
      ],
      "metadata": {
        "colab": {
          "base_uri": "https://localhost:8080/",
          "height": 165
        },
        "id": "RrQTu57kbZY-",
        "outputId": "d04b63a1-b70a-4b15-b04a-cc02f6ab2ca0"
      },
      "execution_count": null,
      "outputs": [
        {
          "output_type": "error",
          "ename": "KeyError",
          "evalue": "'category'",
          "traceback": [
            "\u001b[0;31m---------------------------------------------------------------------------\u001b[0m",
            "\u001b[0;31mKeyError\u001b[0m                                  Traceback (most recent call last)",
            "\u001b[0;32m/tmp/ipython-input-1521516974.py\u001b[0m in \u001b[0;36m<cell line: 0>\u001b[0;34m()\u001b[0m\n\u001b[0;32m----> 1\u001b[0;31m \u001b[0mBrand\u001b[0m\u001b[0;34m.\u001b[0m\u001b[0mpop\u001b[0m\u001b[0;34m(\u001b[0m\u001b[0;34m'category'\u001b[0m\u001b[0;34m)\u001b[0m\u001b[0;34m\u001b[0m\u001b[0;34m\u001b[0m\u001b[0m\n\u001b[0m\u001b[1;32m      2\u001b[0m \u001b[0mBrand\u001b[0m\u001b[0;34m\u001b[0m\u001b[0;34m\u001b[0m\u001b[0m\n",
            "\u001b[0;31mKeyError\u001b[0m: 'category'"
          ]
        }
      ]
    },
    {
      "cell_type": "code",
      "source": [
        "Brand.popitem()\n",
        "Brand"
      ],
      "metadata": {
        "colab": {
          "base_uri": "https://localhost:8080/"
        },
        "id": "qHxin_oncJuE",
        "outputId": "2c5edb33-fe85-4612-acba-858a31800b09"
      },
      "execution_count": null,
      "outputs": [
        {
          "output_type": "execute_result",
          "data": {
            "text/plain": [
              "{'name': 'J.', 'product': 'pant shirts'}"
            ]
          },
          "metadata": {},
          "execution_count": 18
        }
      ]
    },
    {
      "cell_type": "code",
      "source": [
        "del Brand\n",
        "Brand"
      ],
      "metadata": {
        "colab": {
          "base_uri": "https://localhost:8080/",
          "height": 165
        },
        "id": "Fy9BO0rucV9g",
        "outputId": "abe04d60-db54-4cb6-b22d-f9a287e93ba7"
      },
      "execution_count": null,
      "outputs": [
        {
          "output_type": "error",
          "ename": "NameError",
          "evalue": "name 'Brand' is not defined",
          "traceback": [
            "\u001b[0;31m---------------------------------------------------------------------------\u001b[0m",
            "\u001b[0;31mNameError\u001b[0m                                 Traceback (most recent call last)",
            "\u001b[0;32m/tmp/ipython-input-2774593283.py\u001b[0m in \u001b[0;36m<cell line: 0>\u001b[0;34m()\u001b[0m\n\u001b[1;32m      1\u001b[0m \u001b[0;32mdel\u001b[0m \u001b[0mBrand\u001b[0m\u001b[0;34m\u001b[0m\u001b[0;34m\u001b[0m\u001b[0m\n\u001b[0;32m----> 2\u001b[0;31m \u001b[0mBrand\u001b[0m\u001b[0;34m\u001b[0m\u001b[0;34m\u001b[0m\u001b[0m\n\u001b[0m",
            "\u001b[0;31mNameError\u001b[0m: name 'Brand' is not defined"
          ]
        }
      ]
    },
    {
      "cell_type": "code",
      "source": [
        "Brand = dict(name = \"J.\", product = \"Shalwar kameez\", category = \"male & female\")\n",
        "Brand['category'] = 'unisex'\n",
        "Brand\n",
        "Brand.update({'product':\"pant shirts\"})\n",
        "Brand[\"price\"] = 9999\n",
        "Brand"
      ],
      "metadata": {
        "colab": {
          "base_uri": "https://localhost:8080/"
        },
        "id": "fJtKWm1Rcvf8",
        "outputId": "a7b159a3-4edc-48d4-b4f6-8b5e39b6378f"
      },
      "execution_count": null,
      "outputs": [
        {
          "output_type": "execute_result",
          "data": {
            "text/plain": [
              "{'name': 'J.', 'product': 'pant shirts', 'category': 'unisex', 'price': 9999}"
            ]
          },
          "metadata": {},
          "execution_count": 23
        }
      ]
    },
    {
      "cell_type": "code",
      "source": [
        "for b in Brand:\n",
        "  print(Brand[b])"
      ],
      "metadata": {
        "colab": {
          "base_uri": "https://localhost:8080/"
        },
        "id": "MRrSPQOOdDm6",
        "outputId": "1ffbd696-cbc5-4684-8ccc-1b2d8d8f0e2f"
      },
      "execution_count": null,
      "outputs": [
        {
          "output_type": "stream",
          "name": "stdout",
          "text": [
            "J.\n",
            "pant shirts\n",
            "unisex\n",
            "9999\n"
          ]
        }
      ]
    },
    {
      "cell_type": "code",
      "source": [
        "for b,value in Brand.items():\n",
        "  print(b,value)"
      ],
      "metadata": {
        "colab": {
          "base_uri": "https://localhost:8080/"
        },
        "id": "gfcJCTVTd0AQ",
        "outputId": "3e3a92b1-0276-40a9-9fa1-2ca23ae49d08"
      },
      "execution_count": null,
      "outputs": [
        {
          "output_type": "stream",
          "name": "stdout",
          "text": [
            "name J.\n",
            "product pant shirts\n",
            "category unisex\n",
            "price 9999\n"
          ]
        }
      ]
    },
    {
      "cell_type": "code",
      "source": [
        "for b in Brand.values():\n",
        "  print(b)"
      ],
      "metadata": {
        "colab": {
          "base_uri": "https://localhost:8080/"
        },
        "id": "HXT4tfSnedOY",
        "outputId": "8e3d0484-cf09-4ba4-c101-4d390d85264e"
      },
      "execution_count": null,
      "outputs": [
        {
          "output_type": "stream",
          "name": "stdout",
          "text": [
            "J.\n",
            "pant shirts\n",
            "unisex\n",
            "9999\n"
          ]
        }
      ]
    },
    {
      "cell_type": "code",
      "source": [
        "for b in Brand.items():\n",
        "  print(b)"
      ],
      "metadata": {
        "colab": {
          "base_uri": "https://localhost:8080/"
        },
        "id": "QIQrw9CreigN",
        "outputId": "381fd7f2-5e5d-4767-9369-f15796408161"
      },
      "execution_count": null,
      "outputs": [
        {
          "output_type": "stream",
          "name": "stdout",
          "text": [
            "('name', 'J.')\n",
            "('product', 'pant shirts')\n",
            "('category', 'unisex')\n",
            "('price', 9999)\n"
          ]
        }
      ]
    },
    {
      "cell_type": "code",
      "source": [
        "for b in Brand.keys():\n",
        "  print(b)"
      ],
      "metadata": {
        "colab": {
          "base_uri": "https://localhost:8080/"
        },
        "id": "Qln4_napenWb",
        "outputId": "d68657b0-0e60-418e-ea6a-75929191ee8f"
      },
      "execution_count": null,
      "outputs": [
        {
          "output_type": "stream",
          "name": "stdout",
          "text": [
            "name\n",
            "product\n",
            "category\n",
            "price\n"
          ]
        }
      ]
    },
    {
      "cell_type": "code",
      "source": [
        "Brand.items()"
      ],
      "metadata": {
        "colab": {
          "base_uri": "https://localhost:8080/"
        },
        "id": "3DFxDXmAetcu",
        "outputId": "d8bda1ef-110f-42a5-dc6b-8210002160da"
      },
      "execution_count": null,
      "outputs": [
        {
          "output_type": "execute_result",
          "data": {
            "text/plain": [
              "dict_items([('name', 'J.'), ('product', 'pant shirts'), ('category', 'unisex'), ('price', 9999)])"
            ]
          },
          "metadata": {},
          "execution_count": 32
        }
      ]
    },
    {
      "cell_type": "code",
      "source": [
        "Brand.values()"
      ],
      "metadata": {
        "colab": {
          "base_uri": "https://localhost:8080/"
        },
        "id": "gIUCspwzfViv",
        "outputId": "7d591969-2d89-45b0-ee5d-bb2bbd02375c"
      },
      "execution_count": null,
      "outputs": [
        {
          "output_type": "execute_result",
          "data": {
            "text/plain": [
              "dict_values(['J.', 'pant shirts', 'unisex', 9999])"
            ]
          },
          "metadata": {},
          "execution_count": 33
        }
      ]
    },
    {
      "cell_type": "code",
      "source": [
        "Brand.keys()"
      ],
      "metadata": {
        "colab": {
          "base_uri": "https://localhost:8080/"
        },
        "id": "qJxWpEuIfZub",
        "outputId": "6f792e08-f878-409d-a002-983de0171b29"
      },
      "execution_count": null,
      "outputs": [
        {
          "output_type": "execute_result",
          "data": {
            "text/plain": [
              "dict_keys(['name', 'product', 'category', 'price'])"
            ]
          },
          "metadata": {},
          "execution_count": 34
        }
      ]
    },
    {
      "cell_type": "code",
      "source": [
        "newbrand = brand.copy()\n",
        "newbrand"
      ],
      "metadata": {
        "colab": {
          "base_uri": "https://localhost:8080/"
        },
        "id": "AYbyOr2dfc9R",
        "outputId": "3dde7487-0a8e-483a-d5fe-5a7d07813eac"
      },
      "execution_count": null,
      "outputs": [
        {
          "output_type": "execute_result",
          "data": {
            "text/plain": [
              "{'name': 'J.', 'product': 'Bags', 'price': [45000, 98000, 78900, 567890]}"
            ]
          },
          "metadata": {},
          "execution_count": 35
        }
      ]
    },
    {
      "cell_type": "code",
      "source": [
        "oldbrand = Brand.copy()\n",
        "oldbrand"
      ],
      "metadata": {
        "colab": {
          "base_uri": "https://localhost:8080/"
        },
        "id": "ANQrFbXOgnxw",
        "outputId": "7fbb3ef7-84f4-4c41-ea96-78f29632e013"
      },
      "execution_count": null,
      "outputs": [
        {
          "output_type": "execute_result",
          "data": {
            "text/plain": [
              "{'name': 'J.', 'product': 'pant shirts', 'category': 'unisex', 'price': 9999}"
            ]
          },
          "metadata": {},
          "execution_count": 36
        }
      ]
    },
    {
      "cell_type": "code",
      "source": [
        "newbrand.update(oldbrand)\n",
        "newbrand"
      ],
      "metadata": {
        "colab": {
          "base_uri": "https://localhost:8080/"
        },
        "id": "ktZmC-1tgwQo",
        "outputId": "840e04af-f451-4ca2-c021-de000aaf5745"
      },
      "execution_count": null,
      "outputs": [
        {
          "output_type": "execute_result",
          "data": {
            "text/plain": [
              "{'name': 'J.', 'product': 'pant shirts', 'price': 9999, 'category': 'unisex'}"
            ]
          },
          "metadata": {},
          "execution_count": 38
        }
      ]
    },
    {
      "cell_type": "code",
      "source": [
        "student ={\n",
        "    \"std1\":{\n",
        "      \"name\":\"Sam\",\n",
        "      \"age\": 16,\n",
        "      \"Class\":5\n",
        "    },\n",
        "    \"std2\":{\n",
        "      \"name\":\"lois\",\n",
        "      \"age\":15,\n",
        "      \"Class\":9\n",
        "    },\n",
        "    \"std3\":{\n",
        "      \"name\":\"Nathan\",\n",
        "      \"age\":18,\n",
        "      \"Class\":5\n",
        "    }\n",
        "}\n",
        "student[\"std2\"][\"name\"]"
      ],
      "metadata": {
        "id": "ePm9WfbuhSKa",
        "colab": {
          "base_uri": "https://localhost:8080/",
          "height": 36
        },
        "outputId": "c8d4e26f-f7c6-45a2-b48e-8b234e3a7562"
      },
      "execution_count": 47,
      "outputs": [
        {
          "output_type": "execute_result",
          "data": {
            "text/plain": [
              "'lois'"
            ],
            "application/vnd.google.colaboratory.intrinsic+json": {
              "type": "string"
            }
          },
          "metadata": {},
          "execution_count": 47
        }
      ]
    },
    {
      "cell_type": "markdown",
      "source": [],
      "metadata": {
        "id": "5nuyn_QhrfcQ"
      }
    },
    {
      "cell_type": "code",
      "source": [
        "std1 = {\n",
        "      \"name\":\"Sam\",\n",
        "      \"age\": 16,\n",
        "      \"Class\":5\n",
        "    }\n",
        "std2 = {\n",
        "      \"name\":\"lois\",\n",
        "      \"age\":15,\n",
        "      \"Class\":9\n",
        "      }\n",
        "std3 = {\n",
        "      \"name\":\"Nathan\",\n",
        "      \"age\":18,\n",
        "      \"Class\":5\n",
        "    }\n",
        "school ={\n",
        "      'student1':std1,\n",
        "      \"student2\":std2,\n",
        "      \"student3\":std3\n",
        "  }\n",
        "school[\"student1\"][\"age\"]\n"
      ],
      "metadata": {
        "colab": {
          "base_uri": "https://localhost:8080/"
        },
        "id": "h52MloHvirw1",
        "outputId": "9c78dd6e-ac6d-4a2b-e015-33d8995b3f1d"
      },
      "execution_count": 50,
      "outputs": [
        {
          "output_type": "execute_result",
          "data": {
            "text/plain": [
              "16"
            ]
          },
          "metadata": {},
          "execution_count": 50
        }
      ]
    },
    {
      "cell_type": "code",
      "source": [
        "for x ,obj in school.items():\n",
        "  print(x )\n",
        "  for y in obj:\n",
        "    print('\\t'+y +':',obj[y])\n",
        ""
      ],
      "metadata": {
        "colab": {
          "base_uri": "https://localhost:8080/"
        },
        "id": "F_EKOJfvnfQT",
        "outputId": "b41da6ed-a748-479f-8feb-3be6111391e8"
      },
      "execution_count": 64,
      "outputs": [
        {
          "output_type": "stream",
          "name": "stdout",
          "text": [
            "student1\n",
            "\tname: Sam\n",
            "\tage: 16\n",
            "\tClass: 5\n",
            "student2\n",
            "\tname: lois\n",
            "\tage: 15\n",
            "\tClass: 9\n",
            "student3\n",
            "\tname: Nathan\n",
            "\tage: 18\n",
            "\tClass: 5\n"
          ]
        }
      ]
    },
    {
      "cell_type": "code",
      "source": [
        "del Brand\n"
      ],
      "metadata": {
        "id": "ObWLFY-rpCN3"
      },
      "execution_count": 65,
      "outputs": []
    },
    {
      "cell_type": "code",
      "source": [
        "product_1 = {\n",
        "    \"name\":\"Bags\",\n",
        "    'code':2154,\n",
        "    \"sold\":5590\n",
        "}\n",
        "product_2 = {\n",
        "    \"name\":\"slippers\",\n",
        "    'code':2155,\n",
        "    \"sold\":58850\n",
        "}\n",
        "product_3 = {\n",
        "    \"name\":\"sweaters\",\n",
        "    'code':2156,\n",
        "    \"sold\":5550\n",
        "}\n",
        "product_4 = {\n",
        "    \"name\":\"scarfs\",\n",
        "    'code':2157,\n",
        "    \"sold\":5520\n",
        "}\n",
        "product_5 = {\n",
        "    \"name\":\"nails\",\n",
        "    'code':2158,\n",
        "    \"sold\":5500\n",
        "}\n",
        "Brand ={\n",
        "    \"product1\":product_1,\n",
        "    \"product2\":product_2,\n",
        "    \"product3\":product_3,\n",
        "    \"product4\":product_4,\n",
        "    \"product5\":product_5\n",
        "}\n",
        "Brand"
      ],
      "metadata": {
        "colab": {
          "base_uri": "https://localhost:8080/"
        },
        "id": "YK-15AU0sOG_",
        "outputId": "c3557505-a129-43de-fd85-8a3c7b77570e"
      },
      "execution_count": 67,
      "outputs": [
        {
          "output_type": "execute_result",
          "data": {
            "text/plain": [
              "{'product1': {'name': 'Bags', 'code': 2154, 'sold': 5590},\n",
              " 'product2': {'name': 'slippers', 'code': 2155, 'sold': 58850},\n",
              " 'product3': {'name': 'sweaters', 'code': 2156, 'sold': 5550},\n",
              " 'product4': {'name': 'scarfs', 'code': 2157, 'sold': 5520},\n",
              " 'product5': {'name': 'nails', 'code': 2158, 'sold': 5500}}"
            ]
          },
          "metadata": {},
          "execution_count": 67
        }
      ]
    },
    {
      "cell_type": "code",
      "source": [
        "for a , po in Brand.items():\n",
        "  print(a)\n",
        "  for b in po:\n",
        "    print(\"\\t\"+ b +\":\",po[b])"
      ],
      "metadata": {
        "colab": {
          "base_uri": "https://localhost:8080/"
        },
        "id": "60RVmOOGthsp",
        "outputId": "7a822e06-03aa-4553-e163-d624ff0065cc"
      },
      "execution_count": 68,
      "outputs": [
        {
          "output_type": "stream",
          "name": "stdout",
          "text": [
            "product1\n",
            "\tname: Bags\n",
            "\tcode: 2154\n",
            "\tsold: 5590\n",
            "product2\n",
            "\tname: slippers\n",
            "\tcode: 2155\n",
            "\tsold: 58850\n",
            "product3\n",
            "\tname: sweaters\n",
            "\tcode: 2156\n",
            "\tsold: 5550\n",
            "product4\n",
            "\tname: scarfs\n",
            "\tcode: 2157\n",
            "\tsold: 5520\n",
            "product5\n",
            "\tname: nails\n",
            "\tcode: 2158\n",
            "\tsold: 5500\n"
          ]
        }
      ]
    },
    {
      "cell_type": "code",
      "source": [],
      "metadata": {
        "id": "WPBL8WWCt9_U"
      },
      "execution_count": null,
      "outputs": []
    }
  ]
}