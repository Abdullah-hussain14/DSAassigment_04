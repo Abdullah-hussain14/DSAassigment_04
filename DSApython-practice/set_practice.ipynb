{
  "nbformat": 4,
  "nbformat_minor": 0,
  "metadata": {
    "colab": {
      "provenance": []
    },
    "kernelspec": {
      "name": "python3",
      "display_name": "Python 3"
    },
    "language_info": {
      "name": "python"
    }
  },
  "cells": [
    {
      "cell_type": "code",
      "execution_count": 2,
      "metadata": {
        "colab": {
          "base_uri": "https://localhost:8080/"
        },
        "id": "DYtPwYd7Cj-c",
        "outputId": "4d7c77bf-b9c5-4f6f-c0f5-7b03f09f693d"
      },
      "outputs": [
        {
          "output_type": "execute_result",
          "data": {
            "text/plain": [
              "{5, 22, 44, 66, 87, 90, 98}"
            ]
          },
          "metadata": {},
          "execution_count": 2
        }
      ],
      "source": [
        "id = {22,44,5,66,87,98,90}\n",
        "id"
      ]
    },
    {
      "cell_type": "code",
      "source": [
        "id = {22,44,5,66,87,98,90}\n",
        "print(len(id))"
      ],
      "metadata": {
        "colab": {
          "base_uri": "https://localhost:8080/"
        },
        "id": "c0RvaL9BDnz5",
        "outputId": "ea48759e-1290-4b1e-8848-a4d6083ab208"
      },
      "execution_count": 5,
      "outputs": [
        {
          "output_type": "stream",
          "name": "stdout",
          "text": [
            "7\n"
          ]
        }
      ]
    },
    {
      "cell_type": "code",
      "source": [
        "dir (set)"
      ],
      "metadata": {
        "colab": {
          "base_uri": "https://localhost:8080/"
        },
        "id": "642ZcV0TD-jX",
        "outputId": "932e3043-537f-4012-dbcb-29fde7c8e188"
      },
      "execution_count": 6,
      "outputs": [
        {
          "output_type": "execute_result",
          "data": {
            "text/plain": [
              "['__and__',\n",
              " '__class__',\n",
              " '__class_getitem__',\n",
              " '__contains__',\n",
              " '__delattr__',\n",
              " '__dir__',\n",
              " '__doc__',\n",
              " '__eq__',\n",
              " '__format__',\n",
              " '__ge__',\n",
              " '__getattribute__',\n",
              " '__getstate__',\n",
              " '__gt__',\n",
              " '__hash__',\n",
              " '__iand__',\n",
              " '__init__',\n",
              " '__init_subclass__',\n",
              " '__ior__',\n",
              " '__isub__',\n",
              " '__iter__',\n",
              " '__ixor__',\n",
              " '__le__',\n",
              " '__len__',\n",
              " '__lt__',\n",
              " '__ne__',\n",
              " '__new__',\n",
              " '__or__',\n",
              " '__rand__',\n",
              " '__reduce__',\n",
              " '__reduce_ex__',\n",
              " '__repr__',\n",
              " '__ror__',\n",
              " '__rsub__',\n",
              " '__rxor__',\n",
              " '__setattr__',\n",
              " '__sizeof__',\n",
              " '__str__',\n",
              " '__sub__',\n",
              " '__subclasshook__',\n",
              " '__xor__',\n",
              " 'add',\n",
              " 'clear',\n",
              " 'copy',\n",
              " 'difference',\n",
              " 'difference_update',\n",
              " 'discard',\n",
              " 'intersection',\n",
              " 'intersection_update',\n",
              " 'isdisjoint',\n",
              " 'issubset',\n",
              " 'issuperset',\n",
              " 'pop',\n",
              " 'remove',\n",
              " 'symmetric_difference',\n",
              " 'symmetric_difference_update',\n",
              " 'union',\n",
              " 'update']"
            ]
          },
          "metadata": {},
          "execution_count": 6
        }
      ]
    },
    {
      "cell_type": "code",
      "source": [
        "name = {'ali','abubakkar','saim','mustafa','subhan'}\n",
        "name.remove('ali')\n",
        "name.add('suleman')\n",
        "name.discard('saim')\n",
        "name"
      ],
      "metadata": {
        "colab": {
          "base_uri": "https://localhost:8080/"
        },
        "id": "aMN-wsh5EG-C",
        "outputId": "e2f25661-b24a-491b-d75a-f30173bcd6d0"
      },
      "execution_count": 14,
      "outputs": [
        {
          "output_type": "execute_result",
          "data": {
            "text/plain": [
              "{'abubakkar', 'mustafa', 'subhan', 'suleman'}"
            ]
          },
          "metadata": {},
          "execution_count": 14
        }
      ]
    },
    {
      "cell_type": "code",
      "source": [
        "student_math ={'shams','ali','asma'}\n",
        "student_sci = {\"naimat\",\"naeem\",\"ikrama\"}\n",
        "print(student_math|student_sci)\n",
        "student_sci.union(student_math)"
      ],
      "metadata": {
        "colab": {
          "base_uri": "https://localhost:8080/"
        },
        "id": "dWHc3upaFPwa",
        "outputId": "29a7e9a3-2cee-4a34-be02-1d80b5aa15d7"
      },
      "execution_count": 16,
      "outputs": [
        {
          "output_type": "stream",
          "name": "stdout",
          "text": [
            "{'ali', 'asma', 'shams', 'naimat', 'naeem', 'ikrama'}\n"
          ]
        },
        {
          "output_type": "execute_result",
          "data": {
            "text/plain": [
              "{'ali', 'asma', 'ikrama', 'naeem', 'naimat', 'shams'}"
            ]
          },
          "metadata": {},
          "execution_count": 16
        }
      ]
    },
    {
      "cell_type": "code",
      "source": [
        "student_math ={'shams','ali','asma'}\n",
        "student_sci = {\"naimat\",\"naeem\",\"ali\",\"ikrama\"}\n",
        "print(student_math & student_sci)\n",
        "student_sci.intersection(student_math)"
      ],
      "metadata": {
        "colab": {
          "base_uri": "https://localhost:8080/"
        },
        "id": "plMAQ-GlKkyA",
        "outputId": "bbdd69aa-2aa8-43df-f536-aa96b230e13e"
      },
      "execution_count": 19,
      "outputs": [
        {
          "output_type": "stream",
          "name": "stdout",
          "text": [
            "{'ali'}\n"
          ]
        },
        {
          "output_type": "execute_result",
          "data": {
            "text/plain": [
              "{'ali'}"
            ]
          },
          "metadata": {},
          "execution_count": 19
        }
      ]
    },
    {
      "cell_type": "code",
      "source": [
        "student_math ={'shams','ali','asma'}\n",
        "student_sci = {\"naimat\",\"naeem\",\"ali\",\"ikrama\"}\n",
        "print(student_math - student_sci)\n",
        "student_sci.difference(student_math)"
      ],
      "metadata": {
        "colab": {
          "base_uri": "https://localhost:8080/"
        },
        "id": "rA5bTp1ZLIAR",
        "outputId": "dfd2c5af-dd3e-40c1-ae3b-86f8ca21c05d"
      },
      "execution_count": 20,
      "outputs": [
        {
          "output_type": "stream",
          "name": "stdout",
          "text": [
            "{'asma', 'shams'}\n"
          ]
        },
        {
          "output_type": "execute_result",
          "data": {
            "text/plain": [
              "{'ikrama', 'naeem', 'naimat'}"
            ]
          },
          "metadata": {},
          "execution_count": 20
        }
      ]
    },
    {
      "cell_type": "code",
      "source": [
        "student_math ={'shams','ali','asma'}\n",
        "student_sci = {\"naimat\",\"naeem\",\"ali\",\"ikrama\"}\n",
        "print(student_math ^ student_sci)\n",
        "student_sci.symmetric_difference(student_math)"
      ],
      "metadata": {
        "colab": {
          "base_uri": "https://localhost:8080/"
        },
        "id": "vjjFAv0-Md2u",
        "outputId": "ff00a89f-07aa-49fd-b01d-179cbbd5f9af"
      },
      "execution_count": 21,
      "outputs": [
        {
          "output_type": "stream",
          "name": "stdout",
          "text": [
            "{'asma', 'shams', 'naeem', 'naimat', 'ikrama'}\n"
          ]
        },
        {
          "output_type": "execute_result",
          "data": {
            "text/plain": [
              "{'asma', 'ikrama', 'naeem', 'naimat', 'shams'}"
            ]
          },
          "metadata": {},
          "execution_count": 21
        }
      ]
    },
    {
      "cell_type": "code",
      "source": [
        "\n",
        "'naimat' not in student_math"
      ],
      "metadata": {
        "colab": {
          "base_uri": "https://localhost:8080/"
        },
        "id": "yjNRV-ocNPde",
        "outputId": "e637c9cb-9d60-4ca2-a4e7-6b2bd50c8eb4"
      },
      "execution_count": 26,
      "outputs": [
        {
          "output_type": "execute_result",
          "data": {
            "text/plain": [
              "True"
            ]
          },
          "metadata": {},
          "execution_count": 26
        }
      ]
    },
    {
      "cell_type": "code",
      "source": [
        "student = {1,2,3,4,5,67,8}\n",
        "student.update([78,98,88])\n",
        "student"
      ],
      "metadata": {
        "colab": {
          "base_uri": "https://localhost:8080/"
        },
        "id": "W7I5U45eO1Yf",
        "outputId": "d00efea1-03a6-42f6-d14d-9e12a5779d63"
      },
      "execution_count": 27,
      "outputs": [
        {
          "output_type": "execute_result",
          "data": {
            "text/plain": [
              "{1, 2, 3, 4, 5, 8, 67, 78, 88, 98}"
            ]
          },
          "metadata": {},
          "execution_count": 27
        }
      ]
    }
  ]
}