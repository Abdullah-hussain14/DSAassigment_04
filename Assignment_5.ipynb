{
  "cells": [
    {
      "cell_type": "markdown",
      "id": "02c93f40-2462-4008-89ac-402b9c4e637c",
      "metadata": {
        "id": "02c93f40-2462-4008-89ac-402b9c4e637c"
      },
      "source": [
        "Q1. An e-commerce store stores information about its products in a nested dictionary. The outer dictionary uses product IDs as keys, and the inner dictionary stores product details like name, category, price, and stock quantity. products = { 101: {\"name\": \"Laptop\", \"category\": \"Electronics\", \"price\": 1200, \"stock\": 50}, 102: {\"name\": \"Shirt\", \"category\": \"Apparel\", \"price\": 25, \"stock\": 200}, 103: {\"name\": \"Coffee Maker\", \"category\": \"Home Appliances\", \"price\": 80, \"stock\": 30} }\n",
        "\n",
        "• Increase the stock of the \"Shirt\" product (add 50 more units) using increment/decrement operators\n",
        "\n",
        "• Add a new product (e.g., \"Smartphone\")\n",
        "\n",
        "Expected Output:\n",
        "\n",
        "{101: {'name': 'Laptop', 'category': 'Electronics', 'price': 1200, 'stock': 50}, 102: {'name': 'Shirt', 'category': 'Apparel', 'price': 25, 'stock': 250}, 103: {'name': 'Coffee Maker', 'category': 'Home Appliances', 'price': 80, 'stock': 30}}\n",
        "{101: {'name': 'Laptop', 'category': 'Electronics', 'price': 1200, 'stock': 50}, 102: {'name': 'Shirt', 'category': 'Apparel', 'price': 25, 'stock': 250}, 103: {'name': 'Coffee Maker', 'category': 'Home Appliances', 'price': 80, 'stock': 30}, 104: {'name': 'Smartphone', 'category': 'Electronics', 'price': 800, 'stock': 100}}"
      ]
    },
    {
      "cell_type": "code",
      "source": [
        "products = { 101: {\"name\": \"Laptop\", \"category\": \"Electronics\", \"price\": 1200, \"stock\": 50},\n",
        "            102: {\"name\": \"Shirt\", \"category\": \"Apparel\", \"price\": 25, \"stock\": 200},\n",
        "            103: {\"name\": \"Coffee Maker\", \"category\": \"Home Appliances\", \"price\": 80, \"stock\": 30} }\n",
        "products [102] [\"stock\"] += 50\n",
        "products"
      ],
      "metadata": {
        "id": "_SB6FBF699Qt",
        "outputId": "53add9a2-d10d-4ac5-ff6f-05565a8c2e69",
        "colab": {
          "base_uri": "https://localhost:8080/"
        }
      },
      "id": "_SB6FBF699Qt",
      "execution_count": 27,
      "outputs": [
        {
          "output_type": "execute_result",
          "data": {
            "text/plain": [
              "{101: {'name': 'Laptop',\n",
              "  'category': 'Electronics',\n",
              "  'price': 1200,\n",
              "  'stock': 50},\n",
              " 102: {'name': 'Shirt', 'category': 'Apparel', 'price': 25, 'stock': 250},\n",
              " 103: {'name': 'Coffee Maker',\n",
              "  'category': 'Home Appliances',\n",
              "  'price': 80,\n",
              "  'stock': 30}}"
            ]
          },
          "metadata": {},
          "execution_count": 27
        }
      ]
    },
    {
      "cell_type": "markdown",
      "id": "38374151-536f-489a-a18b-c52649f20110",
      "metadata": {
        "id": "38374151-536f-489a-a18b-c52649f20110"
      },
      "source": [
        "Q2. You are given a list that contains some duplicate items. Remove the duplicates by converting the list to a set. Final output should be in list\n",
        "\n",
        "shopping_list = [\"apple\", \"banana\", \"apple\", \"orange\", \"banana\", \"grape\"]\n",
        "\n",
        "Expected Output:\n",
        "['apple', 'grape', 'banana', 'orange']"
      ]
    },
    {
      "cell_type": "code",
      "source": [
        "shopping_list = [\"apple\", \"banana\", \"apple\", \"orange\", \"banana\", \"grape\"]\n",
        "unique_shoopping_list = list(set(shopping_list))\n",
        "unique_shoopping_list.sort()\n",
        "unique_shoopping_list\n"
      ],
      "metadata": {
        "id": "z_JeZFJY91OM",
        "outputId": "255b00e7-c76c-45b6-d955-d6179c038c8e",
        "colab": {
          "base_uri": "https://localhost:8080/"
        }
      },
      "id": "z_JeZFJY91OM",
      "execution_count": 26,
      "outputs": [
        {
          "output_type": "execute_result",
          "data": {
            "text/plain": [
              "['apple', 'banana', 'grape', 'orange']"
            ]
          },
          "metadata": {},
          "execution_count": 26
        }
      ]
    },
    {
      "cell_type": "markdown",
      "id": "6024ec14-7264-4e36-bcea-da9e8044e483",
      "metadata": {
        "id": "6024ec14-7264-4e36-bcea-da9e8044e483"
      },
      "source": [
        "Q3. You are managing a list of students enrolled in two different courses. You need to perform various set operations to understand the student enrollment. Task: Create two sets: one for students in \"Course A\" and one for students in \"Course B\". Find the students who are in \"Course A\" but not in \"Course B\" (difference). Find students who are only in one of the two courses (symmetric difference). course_a = {\"John\", \"Alice\", \"Bob\", \"David\"} course_b = {\"Alice\", \"Eve\", \"Charlie\", \"David\"}\n",
        "\n",
        "Using set methods\n",
        "\n",
        "• Find students who are in Course A but not in Course B (difference)\n",
        "\n",
        "• Find students who are only in one of the two courses (symmetric difference)\n",
        "\n",
        "Expected Output:\n",
        "\n",
        "Students in Course A but not in Course B: {'Bob', 'John'}\n",
        "\n",
        "Students only in one of the two courses: {'Eve', 'John', 'Bob', 'Charlie'}\n"
      ]
    },
    {
      "cell_type": "code",
      "source": [
        "course_a = {\"John\", \"Alice\", \"Bob\", \"David\"}\n",
        "course_b = {\"Alice\", \"Eve\", \"Charlie\", \"David\"}\n",
        "course_a.difference(course_b)\n"
      ],
      "metadata": {
        "id": "ZOtSt3gI9oXq",
        "outputId": "c9f1e55b-b50a-4723-dc79-c5e3458c15a1",
        "colab": {
          "base_uri": "https://localhost:8080/"
        }
      },
      "id": "ZOtSt3gI9oXq",
      "execution_count": 24,
      "outputs": [
        {
          "output_type": "execute_result",
          "data": {
            "text/plain": [
              "{'Bob', 'John'}"
            ]
          },
          "metadata": {},
          "execution_count": 24
        }
      ]
    },
    {
      "cell_type": "code",
      "source": [
        "course_a = {\"John\", \"Alice\", \"Bob\", \"David\"}\n",
        "course_b = {\"Alice\", \"Eve\", \"Charlie\", \"David\"}\n",
        "course_a ^ course_b"
      ],
      "metadata": {
        "id": "QzQEvpRm9tWz",
        "outputId": "c1860707-3b40-4d05-84ff-730e341fe6d7",
        "colab": {
          "base_uri": "https://localhost:8080/"
        }
      },
      "id": "QzQEvpRm9tWz",
      "execution_count": 25,
      "outputs": [
        {
          "output_type": "execute_result",
          "data": {
            "text/plain": [
              "{'Bob', 'Charlie', 'Eve', 'John'}"
            ]
          },
          "metadata": {},
          "execution_count": 25
        }
      ]
    },
    {
      "cell_type": "markdown",
      "id": "41da432a-3038-4868-803e-fe40f55c9983",
      "metadata": {
        "id": "41da432a-3038-4868-803e-fe40f55c9983"
      },
      "source": [
        "Q4. Write a Python program to store and display the details of a book.\n",
        "\n",
        "The program should ask the user to input the following information:\n",
        "\n",
        "Title of the book\n",
        "\n",
        "Author’s name\n",
        "\n",
        "Year of publication\n",
        "\n",
        "Price of the booK\n",
        "\n",
        "Store the entered details in a tuple.\n",
        "\n",
        "Finally, display the book details in a proper format as shown below:\n",
        "\n",
        "Expected Output:\n",
        "\n",
        "Title: Harry Potter\n",
        "\n",
        "Author: JK Rowlings\n",
        "\n",
        "Year of Publication: 2000\n",
        "\n",
        "Price: $180.0"
      ]
    },
    {
      "cell_type": "code",
      "source": [
        "Book_info1 = input(\"what's the title of the book\")\n",
        "Book_info2 = input(\"Gives it's Author's name\")\n",
        "Book_info3 = input(\"what's the year of publication\")\n",
        "Book_info4 = input(\"what's the price of the book\")\n",
        "book_info = (Book_info1, Book_info2, Book_info3, Book_info4)\n",
        "print(\"\\nTitle :\", book_info[0])\n",
        "print(\"Author : \", book_info[1])\n",
        "print(\"Year of Publication :\", book_info[2])\n",
        "print(\"Price : \", str(book_info[3]))"
      ],
      "metadata": {
        "id": "7VcK9w349YqA",
        "outputId": "2fcab396-a357-4641-dbbe-9b1007a9c778",
        "colab": {
          "base_uri": "https://localhost:8080/"
        }
      },
      "id": "7VcK9w349YqA",
      "execution_count": 23,
      "outputs": [
        {
          "output_type": "stream",
          "name": "stdout",
          "text": [
            "what's the title of the bookharry potter\n",
            "Gives it's Author's namejk rowling\n",
            "what's the year of publication2000\n",
            "what's the price of the book$180.0\n",
            "\n",
            "Title : harry potter\n",
            "Author :  jk rowling\n",
            "Year of Publication : 2000\n",
            "Price :  $180.0\n"
          ]
        }
      ]
    },
    {
      "cell_type": "markdown",
      "id": "48347612-e98e-4b10-b9e7-69dd64a27cd3",
      "metadata": {
        "id": "48347612-e98e-4b10-b9e7-69dd64a27cd3"
      },
      "source": [
        "Q5. Write a program to check if a user’s chosen subject is available in the list of offered subjects.\n",
        "\n",
        "Instructions:\n",
        "\n",
        "Given a list of subjects, ask the user to input a subject.\n",
        "\n",
        "Display whether the subject is available or not.\n",
        "\n",
        "Expected Output:\n",
        "\n",
        "Enter the subject you are interested in:  art\n",
        "\n",
        "art is available."
      ]
    },
    {
      "cell_type": "code",
      "source": [],
      "metadata": {
        "id": "aKiHZBUU9QI-"
      },
      "id": "aKiHZBUU9QI-",
      "execution_count": null,
      "outputs": []
    },
    {
      "cell_type": "code",
      "source": [
        "subject = input(\"\"\"subjects[Arts,sciology,criminology,Macroecnonomy]\\n\n",
        "Enter the subject you're interested \"\"\").lower()\n",
        "if subject in [\"arts\", \"sciology\", \"criminology\", \"Macroecnonomy\"]:\n",
        "  print(subject, \"is available\")\n",
        "else:\n",
        "  print(subject, \"is not available\")\n"
      ],
      "metadata": {
        "id": "BeXFSqEU885u",
        "outputId": "cab1de05-f530-4ea5-8b75-f3123bf9f7ee",
        "colab": {
          "base_uri": "https://localhost:8080/"
        }
      },
      "id": "BeXFSqEU885u",
      "execution_count": 22,
      "outputs": [
        {
          "output_type": "stream",
          "name": "stdout",
          "text": [
            "subjects[Arts,sciology,criminology,Macroecnonomy]\n",
            "\n",
            "Enter the subject you're interested arts\n",
            "arts is available\n"
          ]
        }
      ]
    },
    {
      "cell_type": "markdown",
      "id": "11ffc986-b30a-4cd9-8416-44c6da950d00",
      "metadata": {
        "id": "11ffc986-b30a-4cd9-8416-44c6da950d00"
      },
      "source": [
        "Q6. Write a Python program that asks the user to enter a number.\n",
        "\n",
        "If the number is greater than 0, print \"Positive\".\n",
        "\n",
        "If the number is less than 0, print \"Negative\".\n",
        "\n",
        "If the number is exactly 0, print \"Zero\".\n",
        "\n",
        "Expected Output:\n",
        "\n",
        "Enter a number:  2\n",
        "\n",
        "The number is Positive\n",
        "\n",
        "---\n",
        "\n",
        "Enter a number:  0\n",
        "\n",
        "The number is Zero\n",
        "\n",
        "---\n",
        "\n",
        "Enter a number:  -1\n",
        "\n",
        "The number is Negative"
      ]
    },
    {
      "cell_type": "code",
      "source": [
        "user = int(input(\"enter a number: \"))\n",
        "if user > 0:\n",
        "  print(\"Positive\")\n",
        "elif user < 0:\n",
        "  print(\"Negative\")\n",
        "elif user == 0:\n",
        "  print(\"Zero\")\n",
        "else:\n",
        "  print(\"Invalid input\")"
      ],
      "metadata": {
        "id": "T9bj4jCc8YQI",
        "outputId": "d36b504b-744b-4675-d83b-fa647641af9d",
        "colab": {
          "base_uri": "https://localhost:8080/"
        }
      },
      "id": "T9bj4jCc8YQI",
      "execution_count": 18,
      "outputs": [
        {
          "output_type": "stream",
          "name": "stdout",
          "text": [
            "enter a number: -9\n",
            "Negative\n"
          ]
        }
      ]
    },
    {
      "cell_type": "markdown",
      "id": "2c3a8b52-5013-4999-bdfe-5248b957ad74",
      "metadata": {
        "id": "2c3a8b52-5013-4999-bdfe-5248b957ad74"
      },
      "source": [
        "Q7. Write a Python program that simulates a simple login system.\n",
        "\n",
        "The correct username is 'admin' and the correct password is 'admin@123'\n",
        "\n",
        "The program should take username and password as input from the user.\n",
        "\n",
        "It should check the input and display messages according to the following conditions:\n",
        "\n",
        "- If both username and password are correct → print \"Login Successful\".\n",
        "\n",
        "- If username is wrong but password is correct → print \"Invalid Username\".\n",
        "\n",
        "- If username is correct but password is wrong → print \"Invalid Password\".\n",
        "\n",
        "- If both username and password are wrong → print \"Invalid Username and Password\"."
      ]
    },
    {
      "cell_type": "code",
      "source": [
        "user = input(\"Enter your username\")\n",
        "password = input(\"Enter your password\")\n",
        "if user == \"admin\" and password == \"admin@123\":\n",
        "  print(\"Login Successful\")\n",
        "elif user != \"admin\" and password == \"admin@123\":\n",
        "  print(\"Invalid Username\")\n",
        "elif user == \"admin\" and password != \"admin@123\":\n",
        "  print(\"Invalid Password\")\n",
        "else:\n",
        "  print(\"Invalid Username and Password\")"
      ],
      "metadata": {
        "id": "SknIiilH8Jx4",
        "outputId": "7a624ea8-c608-4b3d-bf3c-dff7aa361c03",
        "colab": {
          "base_uri": "https://localhost:8080/"
        }
      },
      "id": "SknIiilH8Jx4",
      "execution_count": 16,
      "outputs": [
        {
          "output_type": "stream",
          "name": "stdout",
          "text": [
            "Enter your usernameADMIN\n",
            "Enter your passwordadmin\n",
            "Invalid Username and Password\n"
          ]
        }
      ]
    },
    {
      "cell_type": "markdown",
      "id": "5c799583-5206-449c-b370-4007ec0382f2",
      "metadata": {
        "id": "5c799583-5206-449c-b370-4007ec0382f2"
      },
      "source": [
        "Q8.\n",
        "\n",
        "student_details = {\n",
        "    \"Ali\": {\"age\": 20, \"grade\": \"A\", \"city\": \"Karachi\"},\n",
        "    \"Sara\": {\"age\": 21, \"grade\": \"B\", \"city\": \"Lahore\"},\n",
        "    \"Omar\": {\"age\": 19, \"grade\": \"A\", \"city\": \"Islamabad\"},\n",
        "    \"Hina\": {\"age\": 22, \"grade\": \"C\", \"city\": \"Faisalabad\"}\n",
        "}\n",
        "\n",
        "- Add a new student using method:\n",
        "  \"Zara\": {\"age\": 20, \"grade\": \"B\", \"city\": \"Multan\"}\n",
        "\n",
        "- Remove a student \"Omer\" using method\n",
        "\n",
        "Expected Output:\n",
        "\n",
        "{'Ali': {'age': 20, 'grade': 'A', 'city': 'Karachi'}, 'Sara': {'age': 21, 'grade': 'B', 'city': 'Lahore'}, 'Hina': {'age': 22, 'grade': 'C', 'city': 9'Faisalabad'}, 'Zara': {'age': 20, 'grade': 'B', 'city': 'Multan'}}\n",
        "  "
      ]
    },
    {
      "cell_type": "code",
      "source": [],
      "metadata": {
        "id": "mR8rwDu88DfV"
      },
      "id": "mR8rwDu88DfV",
      "execution_count": null,
      "outputs": []
    },
    {
      "cell_type": "markdown",
      "id": "f5c1e4f9-1b24-4c6e-b94d-10e4511df8d8",
      "metadata": {
        "id": "f5c1e4f9-1b24-4c6e-b94d-10e4511df8d8"
      },
      "source": [
        "Q9. Write program to check a person’s eligibility for a loan based on age, credit score, and income. This time, the eligibility criteria will be:\n",
        "\n",
        "The person must be 18 years or older. The person must have a credit score of 650 or higher. The person must have an annual income of at least 30000 dollars If the person has a credit score of 700 or higher, they may still be eligible with an income of 25000 dollars or more.\n",
        "\n",
        "Expected Output:\n",
        "\n",
        "Enter your age:  22\n",
        "\n",
        "Enter your credit score:  888\n",
        "\n",
        "Enter your annual income: $ 800000\n",
        "\n",
        "You are eligible for the loan!\n",
        "\n",
        "---\n",
        "\n",
        "Enter your age:  15\n",
        "\n",
        "Enter your credit score:  800\n",
        "\n",
        "Enter your annual income: $ 900000\n",
        "\n",
        "You are not eligible for the loan due to age.\n",
        "\n",
        "---\n",
        "\n",
        "Enter your age:  35\n",
        "\n",
        "Enter your credit score:  99\n",
        "\n",
        "Enter your annual income: $ 900000\n",
        "\n",
        "You are not eligible for the loan due to low credit score."
      ]
    },
    {
      "cell_type": "code",
      "source": [
        "age = int(input(\"\"\"Eligibility for a loan\n",
        "Enter your age:\n",
        "\"\"\"))\n",
        "score =int(input(\"Enter your credit score: \"))\n",
        "income = int(input(\"Enter your annual income: $ \"))\n",
        "if age >= 18 and income >= 30000 and score >= 650:\n",
        "  print(\"You are eligible for the loan!\")\n",
        "elif age < 18:\n",
        "  print(\"You are not eligible for the loan due to age.\")\n",
        "elif score < 650:\n",
        "  print(\"You are not eligible for the loan due to low credit score.\")\n",
        "elif income >=30000:\n",
        "  print(\"You are not eligible for the loan due to low income.\")\n",
        "elif (income >=25000 and score > 650) or (score >= 700 and income <25000):\n",
        "  print(\"You are  eligible for the loan \")\n",
        "else:\n",
        "        print(\"You are not eligible for the loan\")\n",
        ""
      ],
      "metadata": {
        "id": "8WHq-org7fsl",
        "outputId": "9ba4339b-e62c-46f8-9c33-81e56cf65b73",
        "colab": {
          "base_uri": "https://localhost:8080/"
        }
      },
      "id": "8WHq-org7fsl",
      "execution_count": 14,
      "outputs": [
        {
          "output_type": "stream",
          "name": "stdout",
          "text": [
            "Eligibility for a loan\n",
            "Enter your age:\n",
            "22\n",
            "Enter your credit score: 88\n",
            "Enter your annual income: $ 80000\n",
            "You are not eligible for the loan due to low credit score.\n"
          ]
        }
      ]
    },
    {
      "cell_type": "code",
      "source": [
        "age = int(input(\"\"\"Eligibility for a loan\n",
        "Enter your age:\n",
        "\"\"\"))\n",
        "score =int(input(\"Enter your credit score: \"))\n",
        "income = int(input(\"Enter your annual income: $ \"))\n",
        "if age >= 18 and income >= 30000 and score >= 650:\n",
        "  print(\"You are eligible for the loan!\")\n",
        "elif age < 18:\n",
        "  print(\"You are not eligible for the loan due to age.\")\n",
        "elif score < 650:\n",
        "  print(\"You are not eligible for the loan due to low credit score.\")\n",
        "elif income >=30000:\n",
        "  print(\"You are not eligible for the loan due to low income.\")\n",
        "elif (income >=25000 and score > 650) or (score >= 700 and income <25000):\n",
        "  print(\"You are  eligible for the loan \")\n",
        "else:\n",
        "        print(\"You are not eligible for the loan\")\n",
        ""
      ],
      "metadata": {
        "id": "tYiTw84E73ea",
        "outputId": "03bc7bc1-313a-4e6b-d6c9-7d0029d6fa8d",
        "colab": {
          "base_uri": "https://localhost:8080/"
        }
      },
      "id": "tYiTw84E73ea",
      "execution_count": 15,
      "outputs": [
        {
          "output_type": "stream",
          "name": "stdout",
          "text": [
            "Eligibility for a loan\n",
            "Enter your age:\n",
            "15\n",
            "Enter your credit score: 800\n",
            "Enter your annual income: $ 90000\n",
            "You are not eligible for the loan due to age.\n"
          ]
        }
      ]
    },
    {
      "cell_type": "markdown",
      "id": "2b4c034e-a69a-4124-a1ea-497bce36c7a9",
      "metadata": {
        "id": "2b4c034e-a69a-4124-a1ea-497bce36c7a9"
      },
      "source": [
        "Q10. Write a Python program to check whether the entered letter is a vowel, a consonant, or invalid input.\n",
        "\n",
        "The program should take a single character as input. If the character is a vowel (a, e, i, o, u in both upper and lower case), it will print \"Vowel\". If it is an alphabet but not a vowel, it will print \"Consonant\". Otherwise, it will print \"Please enter valid alphabet\".\n",
        "\n",
        "Expected Output:\n",
        "\n",
        "Enter a single letter:  a\n",
        "\n",
        "a is a Vowel\n",
        "\n",
        "---\n",
        "\n",
        "Enter a single letter:  E\n",
        "\n",
        "E is a Vowel\n",
        "\n",
        "---\n",
        "\n",
        "Enter a single letter:  z\n",
        "\n",
        "z is a Consonant\n",
        "\n",
        "---\n",
        "\n",
        "Enter a single letter:  7\n",
        "\n",
        "Please enter valid alphabet\n"
      ]
    },
    {
      "cell_type": "code",
      "source": [
        "letter = input(\"Enter a single letter: \")\n",
        "\n",
        "if len(letter) != 1 or not letter.isalpha():\n",
        "    print(\"Please enter valid alphabet\")\n",
        "elif letter.lower() in ['a', 'e', 'i', 'o', 'u']:\n",
        "    print(f\"{letter} is a Vowel\")\n",
        "else:\n",
        "    print(f\"{letter} is a Consonant\")\n"
      ],
      "metadata": {
        "id": "CIMR2ft75gQL",
        "outputId": "c6f809d0-ec8d-4ffa-dd2a-b0958f51ea7f",
        "colab": {
          "base_uri": "https://localhost:8080/"
        }
      },
      "id": "CIMR2ft75gQL",
      "execution_count": 13,
      "outputs": [
        {
          "output_type": "stream",
          "name": "stdout",
          "text": [
            "Enter a single letter: 22\n",
            "Please enter valid alphabet\n"
          ]
        }
      ]
    },
    {
      "cell_type": "code",
      "source": [
        "letter = input(\"Enter a single letter: \")\n",
        "\n",
        "if len(letter) != 1 or not letter.isalpha():\n",
        "    print(\"Please enter valid alphabet\")\n",
        "elif letter.lower() in ['a', 'e', 'i', 'o', 'u']:\n",
        "    print(f\"{letter} is a Vowel\")\n",
        "else:\n",
        "    print(f\"{letter} is a Consonant\")\n"
      ],
      "metadata": {
        "id": "b-PlI7KM7UUT",
        "outputId": "a44e43e1-3f5e-4752-b839-17e82b9205cb",
        "colab": {
          "base_uri": "https://localhost:8080/"
        }
      },
      "id": "b-PlI7KM7UUT",
      "execution_count": 11,
      "outputs": [
        {
          "output_type": "stream",
          "name": "stdout",
          "text": [
            "Enter a single letter: 7\n",
            "Please enter valid alphabet\n"
          ]
        }
      ]
    }
  ],
  "metadata": {
    "kernelspec": {
      "display_name": "Python 3 (ipykernel)",
      "language": "python",
      "name": "python3"
    },
    "language_info": {
      "codemirror_mode": {
        "name": "ipython",
        "version": 3
      },
      "file_extension": ".py",
      "mimetype": "text/x-python",
      "name": "python",
      "nbconvert_exporter": "python",
      "pygments_lexer": "ipython3",
      "version": "3.12.7"
    },
    "colab": {
      "provenance": []
    }
  },
  "nbformat": 4,
  "nbformat_minor": 5
}