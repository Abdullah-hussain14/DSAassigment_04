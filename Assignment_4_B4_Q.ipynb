{
  "cells": [
    {
      "cell_type": "markdown",
      "id": "f50c28f8-19de-40ce-b6fe-360f1542676f",
      "metadata": {
        "id": "f50c28f8-19de-40ce-b6fe-360f1542676f"
      },
      "source": [
        "1-\n",
        "\n",
        "text = 'hello python world'\n",
        "\n",
        "Replace spaces with underscores in the string (e.g., \"hello python world\" → \"hello_python_world\").\n",
        "\n",
        "Split the modified string (e.g., \"hello_python_world\" → ['hello', 'python', 'world']).\n",
        "\n",
        "Print all two results\n",
        "\n",
        "Hint: Use string methods"
      ]
    },
    {
      "cell_type": "code",
      "source": [
        "text = 'hello python world'\n",
        "Text = text.replace(\" \",\"_\")\n",
        "Text"
      ],
      "metadata": {
        "id": "0ZpQ5d1ci-x4",
        "outputId": "eb4051f9-20ad-40ba-d512-445e7199f9e2",
        "colab": {
          "base_uri": "https://localhost:8080/",
          "height": 35
        }
      },
      "id": "0ZpQ5d1ci-x4",
      "execution_count": 6,
      "outputs": [
        {
          "output_type": "execute_result",
          "data": {
            "text/plain": [
              "'hello_python_world'"
            ],
            "application/vnd.google.colaboratory.intrinsic+json": {
              "type": "string"
            }
          },
          "metadata": {},
          "execution_count": 6
        }
      ]
    },
    {
      "cell_type": "code",
      "source": [
        "Text.split(\"_\")\n"
      ],
      "metadata": {
        "id": "5Zsrn34JjkK4",
        "outputId": "2c7953ea-2694-4c23-d651-d4fdd02237a9",
        "colab": {
          "base_uri": "https://localhost:8080/"
        }
      },
      "id": "5Zsrn34JjkK4",
      "execution_count": 8,
      "outputs": [
        {
          "output_type": "execute_result",
          "data": {
            "text/plain": [
              "['hello', 'python', 'world']"
            ]
          },
          "metadata": {},
          "execution_count": 8
        }
      ]
    },
    {
      "cell_type": "markdown",
      "id": "f36c5e03-9efc-40f9-833c-23864268173e",
      "metadata": {
        "id": "f36c5e03-9efc-40f9-833c-23864268173e"
      },
      "source": [
        "2- You have a product code that follows the format \"SKU-12345-XYZ\".\n",
        "\n",
        "Find the first position of the dash (-).\n",
        "\n",
        "Count the number of dashes (-) in the product code.\n",
        "\n",
        "Remove the \"SKU-\" prefix and \"-XYZ\" suffix from the product code, Extract the numeric part 12345\n",
        "\n",
        "product_code = \"SKU-12345-XYZ\"\n",
        "\n",
        "Hint: Use String Methods"
      ]
    },
    {
      "cell_type": "code",
      "source": [
        "code = \"SKU-12345-XYZ\"\n",
        "code.find(\"-\")"
      ],
      "metadata": {
        "id": "6GPfS-w-j8Er",
        "outputId": "84cd1813-c9b6-4f70-db4e-256df553dcf1",
        "colab": {
          "base_uri": "https://localhost:8080/"
        }
      },
      "id": "6GPfS-w-j8Er",
      "execution_count": 9,
      "outputs": [
        {
          "output_type": "execute_result",
          "data": {
            "text/plain": [
              "3"
            ]
          },
          "metadata": {},
          "execution_count": 9
        }
      ]
    },
    {
      "cell_type": "code",
      "source": [
        "code = \"SKU-12345-XYZ\"\n",
        "code.count(\"-\")\n"
      ],
      "metadata": {
        "id": "boAeWAtXleK9",
        "outputId": "c62af7d3-ef0b-479c-ebfd-0bfbf60556bd",
        "colab": {
          "base_uri": "https://localhost:8080/"
        }
      },
      "id": "boAeWAtXleK9",
      "execution_count": 15,
      "outputs": [
        {
          "output_type": "execute_result",
          "data": {
            "text/plain": [
              "2"
            ]
          },
          "metadata": {},
          "execution_count": 15
        }
      ]
    },
    {
      "cell_type": "markdown",
      "id": "0d504f74-c0d6-4890-9580-7890bc1dcb43",
      "metadata": {
        "id": "0d504f74-c0d6-4890-9580-7890bc1dcb43"
      },
      "source": [
        "3- Convert a string to Title Case.\n",
        "\n",
        "text_1 = \"hello world\"\n"
      ]
    },
    {
      "cell_type": "code",
      "source": [
        "text_1 = \"hello world\"\n",
        "text_1.title()"
      ],
      "metadata": {
        "id": "BXXzj_zplc_L",
        "outputId": "fa756b9e-c4f3-455e-8a86-ade0828da048",
        "colab": {
          "base_uri": "https://localhost:8080/",
          "height": 35
        }
      },
      "id": "BXXzj_zplc_L",
      "execution_count": 16,
      "outputs": [
        {
          "output_type": "execute_result",
          "data": {
            "text/plain": [
              "'Hello World'"
            ],
            "application/vnd.google.colaboratory.intrinsic+json": {
              "type": "string"
            }
          },
          "metadata": {},
          "execution_count": 16
        }
      ]
    },
    {
      "cell_type": "markdown",
      "id": "69a00670-3bd2-4380-bfd6-46f87255ef19",
      "metadata": {
        "id": "69a00670-3bd2-4380-bfd6-46f87255ef19"
      },
      "source": [
        "4- Capitalize the first letter of a string.\n",
        "\n",
        "text_2 = \"python programming\""
      ]
    },
    {
      "cell_type": "code",
      "source": [
        "text_2 = \"python programming\"\n",
        "text_2.capitalize()"
      ],
      "metadata": {
        "id": "yr75Mu5DmkPf",
        "outputId": "fd1bf0ec-08a5-4540-b795-8bda2b9cc3f8",
        "colab": {
          "base_uri": "https://localhost:8080/",
          "height": 35
        }
      },
      "id": "yr75Mu5DmkPf",
      "execution_count": 18,
      "outputs": [
        {
          "output_type": "execute_result",
          "data": {
            "text/plain": [
              "'Python programming'"
            ],
            "application/vnd.google.colaboratory.intrinsic+json": {
              "type": "string"
            }
          },
          "metadata": {},
          "execution_count": 18
        }
      ]
    },
    {
      "cell_type": "markdown",
      "id": "24a9ded0-9b42-4107-bdd3-da5af3dc1414",
      "metadata": {
        "id": "24a9ded0-9b42-4107-bdd3-da5af3dc1414"
      },
      "source": [
        "5- Given the string below, write Python code to:\n",
        "\n",
        "Convert the string so that each word starts with a capital letter\n",
        "\n",
        "Then swap the case of every letter in the resulting string\n",
        "\n",
        "Print the final result.\n",
        "\n",
        "text1 = \"learning PYTHON is AWESOME\""
      ]
    },
    {
      "cell_type": "code",
      "source": [
        "text1 = \"learning PYTHON is AWESOME\"\n",
        "text1.title()"
      ],
      "metadata": {
        "id": "A981yVwnnGI5",
        "outputId": "3431afcd-00bf-4d61-883e-d35c6869115f",
        "colab": {
          "base_uri": "https://localhost:8080/",
          "height": 35
        }
      },
      "id": "A981yVwnnGI5",
      "execution_count": 19,
      "outputs": [
        {
          "output_type": "execute_result",
          "data": {
            "text/plain": [
              "'Learning Python Is Awesome'"
            ],
            "application/vnd.google.colaboratory.intrinsic+json": {
              "type": "string"
            }
          },
          "metadata": {},
          "execution_count": 19
        }
      ]
    },
    {
      "cell_type": "code",
      "source": [
        "text1 = \"learning PYTHON is AWESOME\"\n",
        "text1.swapcase()"
      ],
      "metadata": {
        "id": "yTKDCo36okRD",
        "outputId": "ba5b30ef-7c91-4a73-ac20-6bb8f66ea46a",
        "colab": {
          "base_uri": "https://localhost:8080/",
          "height": 35
        }
      },
      "id": "yTKDCo36okRD",
      "execution_count": 20,
      "outputs": [
        {
          "output_type": "execute_result",
          "data": {
            "text/plain": [
              "'LEARNING python IS awesome'"
            ],
            "application/vnd.google.colaboratory.intrinsic+json": {
              "type": "string"
            }
          },
          "metadata": {},
          "execution_count": 20
        }
      ]
    },
    {
      "cell_type": "markdown",
      "id": "99163be0-8b38-4d39-a4d6-8099e6a6eee7",
      "metadata": {
        "id": "99163be0-8b38-4d39-a4d6-8099e6a6eee7"
      },
      "source": [
        "6-\n",
        "\n",
        "Write Python code to check and print whether the string satisfies the following:\n",
        "\n",
        "Is alphanumeric?\n",
        "\n",
        "Is alphabetic only?\n",
        "\n",
        "text2 = \"HelloWorld123\"\n"
      ]
    },
    {
      "cell_type": "code",
      "source": [
        "text2 = \"HelloWorld123\"\n",
        "text2.isalnum(), text2.isalpha()"
      ],
      "metadata": {
        "id": "NxLsTlf1owCq",
        "outputId": "d18116bc-02a4-4f52-c2bc-ac880c56c907",
        "colab": {
          "base_uri": "https://localhost:8080/"
        }
      },
      "id": "NxLsTlf1owCq",
      "execution_count": 22,
      "outputs": [
        {
          "output_type": "execute_result",
          "data": {
            "text/plain": [
              "(True, False)"
            ]
          },
          "metadata": {},
          "execution_count": 22
        }
      ]
    },
    {
      "cell_type": "markdown",
      "id": "86df8b45-2f46-4da8-b56b-e8967309738d",
      "metadata": {
        "id": "86df8b45-2f46-4da8-b56b-e8967309738d"
      },
      "source": [
        "7-\n",
        "\n",
        "Write Python code to check and print whether the string satisfies the following:\n",
        "\n",
        "Is the string made up of digits only?\n",
        "\n",
        "Is the string all lowercase?\n",
        "\n",
        "text3 = \"helloworld\""
      ]
    },
    {
      "cell_type": "markdown",
      "id": "d5abaffa-dab0-4c62-94a6-7639e02d4753",
      "metadata": {
        "id": "d5abaffa-dab0-4c62-94a6-7639e02d4753"
      },
      "source": [
        "8-\n",
        "\n",
        "Write Python code to check and print whether the string satisfies the following:\n",
        "\n",
        "Is the string all uppercase?\n",
        "\n",
        "Is the string titlecased?\n",
        "\n",
        "text4 = 'Hi We Are Learning Python'"
      ]
    },
    {
      "cell_type": "code",
      "source": [
        "text4 = 'Hi We Are Learning Python'\n",
        "text4.isupper(), text4.istitle()"
      ],
      "metadata": {
        "id": "MHceE9NRpFrF",
        "outputId": "e625f6b7-e5bc-4578-8331-d6d28582fd49",
        "colab": {
          "base_uri": "https://localhost:8080/"
        }
      },
      "id": "MHceE9NRpFrF",
      "execution_count": 24,
      "outputs": [
        {
          "output_type": "execute_result",
          "data": {
            "text/plain": [
              "(False, True)"
            ]
          },
          "metadata": {},
          "execution_count": 24
        }
      ]
    },
    {
      "cell_type": "markdown",
      "id": "005214b5-3e90-488d-9f1a-19fa65b5c830",
      "metadata": {
        "id": "005214b5-3e90-488d-9f1a-19fa65b5c830"
      },
      "source": [
        "9-\n",
        "\n",
        "Write Python code to check and print whether the string:\n",
        "\n",
        "Starts with \"data\"\n",
        "\n",
        "Ends with \".csv\"\n",
        "\n",
        "text5 = \"data_report_2023.csv\"\n"
      ]
    },
    {
      "cell_type": "markdown",
      "id": "80bc03e1-c9aa-4c73-ab02-8065a93f0ce5",
      "metadata": {
        "id": "80bc03e1-c9aa-4c73-ab02-8065a93f0ce5"
      },
      "source": [
        "10-\n",
        "\n",
        "Write Python code to:\n",
        "\n",
        "Count how many times \"banana\" appears in the string.\n",
        "\n",
        "fruit = \"banana bandana banana\"\n"
      ]
    },
    {
      "cell_type": "code",
      "execution_count": 25,
      "id": "13193e78-920a-45db-9c98-c89e8c270ecd",
      "metadata": {
        "id": "13193e78-920a-45db-9c98-c89e8c270ecd",
        "outputId": "b65a89fb-2d4c-4d9f-8da9-7cb4517bad17",
        "colab": {
          "base_uri": "https://localhost:8080/"
        }
      },
      "outputs": [
        {
          "output_type": "execute_result",
          "data": {
            "text/plain": [
              "2"
            ]
          },
          "metadata": {},
          "execution_count": 25
        }
      ],
      "source": [
        "fruit = \"banana bandana banana\"\n",
        "fruit.count(\"banana\")"
      ]
    }
  ],
  "metadata": {
    "kernelspec": {
      "display_name": "Python 3 (ipykernel)",
      "language": "python",
      "name": "python3"
    },
    "language_info": {
      "codemirror_mode": {
        "name": "ipython",
        "version": 3
      },
      "file_extension": ".py",
      "mimetype": "text/x-python",
      "name": "python",
      "nbconvert_exporter": "python",
      "pygments_lexer": "ipython3",
      "version": "3.12.7"
    },
    "colab": {
      "provenance": []
    }
  },
  "nbformat": 4,
  "nbformat_minor": 5
}