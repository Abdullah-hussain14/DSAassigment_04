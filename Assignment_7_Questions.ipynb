{
  "cells": [
    {
      "cell_type": "markdown",
      "id": "ce724d93-8f13-4293-9c50-ef0514adab8c",
      "metadata": {
        "id": "ce724d93-8f13-4293-9c50-ef0514adab8c"
      },
      "source": [
        "Question 1:\n",
        "\n",
        "Write a Python program that prints numbers from 1 to 20, but skips all even numbers.\n",
        "\n",
        "Use a while loop.\n",
        "\n",
        "Use the continue statement\n",
        "\n",
        "The numbers should be printed on the same line separated by spaces.\n",
        "\n",
        "Expected Output:\n",
        "\n",
        "1 3 5 7 9 11 13 15 17 19"
      ]
    },
    {
      "cell_type": "code",
      "source": [
        "i = 1\n",
        "while i <= 20:\n",
        "    if i%2==0:\n",
        "      i += 1\n",
        "      continue\n",
        "    print(i,end=\" \")\n",
        "    i += 1\n"
      ],
      "metadata": {
        "id": "28OyTFUsiK-R",
        "outputId": "9b7e43c8-3dbf-4b77-83b6-63c9593caa8e",
        "colab": {
          "base_uri": "https://localhost:8080/"
        }
      },
      "id": "28OyTFUsiK-R",
      "execution_count": 13,
      "outputs": [
        {
          "output_type": "stream",
          "name": "stdout",
          "text": [
            "1 3 5 7 9 11 13 15 17 19 "
          ]
        }
      ]
    },
    {
      "cell_type": "markdown",
      "id": "b431d0dc-6c6b-4dca-9fc5-f3bba2af76af",
      "metadata": {
        "id": "b431d0dc-6c6b-4dca-9fc5-f3bba2af76af"
      },
      "source": [
        "Question 2:\n",
        "\n",
        "Write a Python program that keeps asking the user to enter numbers and prints them.\n",
        "\n",
        "The program should stop the loop if the user enters a negative number.\n",
        "\n",
        "Use a while True loop with a break statement\n",
        "\n",
        "Expected Output:\n",
        "\n",
        "Enter a number (negative to stop): 5\n",
        "\n",
        "You entered: 5\n",
        "\n",
        "Enter a number (negative to stop): 10\n",
        "\n",
        "You entered: 10\n",
        "\n",
        "Enter a number (negative to stop): -3\n",
        "\n",
        "Negative number entered. Loop stopped!\n"
      ]
    },
    {
      "cell_type": "code",
      "source": [
        "while True:\n",
        "    number = int(input(\"Enter a number (negative to stop): \"))\n",
        "    if number < 0:\n",
        "        print(\"Negative number entered. Loop stopped!\")\n",
        "        break\n",
        "    print(\"You entered:\", number)\n"
      ],
      "metadata": {
        "id": "o9OlwzWYiPHP",
        "outputId": "fb419a3d-b541-409d-a13f-4c21aecc4a97",
        "colab": {
          "base_uri": "https://localhost:8080/"
        }
      },
      "id": "o9OlwzWYiPHP",
      "execution_count": 16,
      "outputs": [
        {
          "output_type": "stream",
          "name": "stdout",
          "text": [
            "Enter a number (negative to stop): 7\n",
            "You entered: 7\n",
            "Enter a number (negative to stop): -8\n",
            "Negative number entered. Loop stopped!\n"
          ]
        }
      ]
    },
    {
      "cell_type": "code",
      "source": [],
      "metadata": {
        "id": "p9kkwGi2icQi"
      },
      "id": "p9kkwGi2icQi",
      "execution_count": null,
      "outputs": []
    },
    {
      "cell_type": "markdown",
      "id": "67b2a90d-44f0-4966-b239-e969c9757206",
      "metadata": {
        "id": "67b2a90d-44f0-4966-b239-e969c9757206"
      },
      "source": [
        "Question 3:\n",
        "\n",
        "\n",
        "Write a Python program that asks the user to guess a secret word.\n",
        "\n",
        "Keep asking until the user enters the correct word (\"python\").\n",
        "\n",
        "When guessed correctly, print \"🎉 You guessed it!\"\n",
        "\n",
        "Expected Output:\n",
        "\n",
        "Guess the word: java\n",
        "\n",
        "Guess the word: ruby\n",
        "\n",
        "Guess the word: python\n",
        "\n",
        "🎉 You guessed it!"
      ]
    },
    {
      "cell_type": "code",
      "source": [
        "secret_word = \"python\"\n",
        "while True:\n",
        "    guess = input(\"Guess the word: \")\n",
        "    if guess == secret_word:\n",
        "        print(\"🎉 You guessed it!\")\n",
        "        break\n"
      ],
      "metadata": {
        "id": "0gIYm2EpidMA",
        "outputId": "3032f97d-d86e-4e77-86de-4b09496f1b46",
        "colab": {
          "base_uri": "https://localhost:8080/"
        }
      },
      "id": "0gIYm2EpidMA",
      "execution_count": 3,
      "outputs": [
        {
          "output_type": "stream",
          "name": "stdout",
          "text": [
            "Guess the word: java\n",
            "Guess the word: python\n",
            "🎉 You guessed it!\n"
          ]
        }
      ]
    },
    {
      "cell_type": "markdown",
      "id": "ea22d55c-4267-4244-bda3-e93d8988216f",
      "metadata": {
        "id": "ea22d55c-4267-4244-bda3-e93d8988216f"
      },
      "source": [
        "Question 4:\n",
        "\n",
        "orders = [\n",
        "    {\"order_id\": 1, \"customer\": \"Ali\", \"items\": [120, 80, 50]},\n",
        "    {\"order_id\": 2, \"customer\": \"Sara\", \"items\": [200, 150]},\n",
        "    {\"order_id\": 3, \"customer\": \"Raheel\", \"items\": [90, 60, 40, 30]},\n",
        "    {\"order_id\": 4, \"customer\": \"Naveed\", \"items\": [300]},\n",
        "]\n",
        "\n",
        "You are given a list of e-commerce orders. Each order has:\n",
        "\n",
        "an order ID\n",
        "\n",
        "a customer name\n",
        "\n",
        "a list of items with prices\n",
        "\n",
        "Write a Python program to print all items for each order using nested while loops.\n",
        "\n",
        "Expected Output:\n",
        "\n",
        "Order ID: 1 Customer: Ali\n",
        "\n",
        " Item Price: 120\n",
        "\n",
        " Item Price: 80\n",
        "\n",
        " Item Price: 50\n",
        "\n",
        "Order ID: 2 Customer: Sara\n",
        "\n",
        " Item Price: 200\n",
        "\n",
        " Item Price: 150\n",
        "\n",
        "Order ID: 3 Customer: Raheel\n",
        "\n",
        " Item Price: 90\n",
        "\n",
        " Item Price: 60\n",
        "\n",
        " Item Price: 40\n",
        "\n",
        " Item Price: 30\n",
        "\n",
        "Order ID: 4 Customer: Naveed\n",
        "\n",
        " Item Price: 300"
      ]
    },
    {
      "cell_type": "code",
      "source": [
        "orders = [\n",
        "    {\"order_id\": 1, \"customer\": \"Ali\", \"items\": [120, 80, 50]},\n",
        "    {\"order_id\": 2, \"customer\": \"Sara\", \"items\": [200, 150]},\n",
        "    {\"order_id\": 3, \"customer\": \"Raheel\", \"items\": [90, 60, 40, 30]},\n",
        "    {\"order_id\": 4, \"customer\": \"Naveed\", \"items\": [300]},\n",
        "]\n",
        "\n",
        "\n",
        "i = 0\n",
        "while i < len(orders):\n",
        "    order = orders[i]\n",
        "    print(f\"Order ID: {order['order_id']} Customer: {order['customer']}\")\n",
        "\n",
        "\n",
        "    j = 0\n",
        "    while j < len(order[\"items\"]):\n",
        "        print(f\"Item Price: {order['items'][j]}\")\n",
        "        j += 1\n",
        "\n",
        "    print()\n",
        "    i += 1\n"
      ],
      "metadata": {
        "id": "yZ0pi-gfjh_x",
        "outputId": "49324dd9-ee80-49d2-bd83-3240e45d7658",
        "colab": {
          "base_uri": "https://localhost:8080/"
        }
      },
      "id": "yZ0pi-gfjh_x",
      "execution_count": 4,
      "outputs": [
        {
          "output_type": "stream",
          "name": "stdout",
          "text": [
            "Order ID: 1 Customer: Ali\n",
            "Item Price: 120\n",
            "Item Price: 80\n",
            "Item Price: 50\n",
            "\n",
            "Order ID: 2 Customer: Sara\n",
            "Item Price: 200\n",
            "Item Price: 150\n",
            "\n",
            "Order ID: 3 Customer: Raheel\n",
            "Item Price: 90\n",
            "Item Price: 60\n",
            "Item Price: 40\n",
            "Item Price: 30\n",
            "\n",
            "Order ID: 4 Customer: Naveed\n",
            "Item Price: 300\n",
            "\n"
          ]
        }
      ]
    },
    {
      "cell_type": "markdown",
      "id": "f7c2bbae-9a3d-454a-9ae7-bf81a77f66a1",
      "metadata": {
        "id": "f7c2bbae-9a3d-454a-9ae7-bf81a77f66a1"
      },
      "source": [
        "Question 5:\n",
        "\n",
        "Print total amount spent by each customer (Using nested while loop)\n",
        "\n",
        "orders = [\n",
        "    {\"order_id\": 1, \"customer\": \"Ali\", \"items\": [120, 80, 50]},\n",
        "    {\"order_id\": 2, \"customer\": \"Sara\", \"items\": [200, 150]},\n",
        "    {\"order_id\": 3, \"customer\": \"Raheel\", \"items\": [90, 60, 40, 30]},\n",
        "    {\"order_id\": 4, \"customer\": \"Naveed\", \"items\": [300]},\n",
        "]\n",
        "\n",
        "Expected Output:\n",
        "\n",
        "Ali spent total: 250\n",
        "\n",
        "Sara spent total: 350\n",
        "\n",
        "Raheel spent total: 220\n",
        "\n",
        "Naveed spent total: 300"
      ]
    },
    {
      "cell_type": "code",
      "source": [
        "orders = [\n",
        "    {\"order_id\": 1, \"customer\": \"Ali\", \"items\": [120, 80, 50]},\n",
        "    {\"order_id\": 2, \"customer\": \"Sara\", \"items\": [200, 150]},\n",
        "    {\"order_id\": 3, \"customer\": \"Raheel\", \"items\": [90, 60, 40, 30]},\n",
        "    {\"order_id\": 4, \"customer\": \"Naveed\", \"items\": [300]},\n",
        "]\n",
        "\n",
        "i = 0\n",
        "while i < len(orders):\n",
        "    customer = orders[i][\"customer\"]\n",
        "    items = orders[i][\"items\"]\n",
        "\n",
        "    total = 0\n",
        "    j = 0\n",
        "    while j < len(items):\n",
        "        total += items[j]\n",
        "        j += 1\n",
        "\n",
        "    print(f\"{customer} spent total: {total}\")\n",
        "    i += 1"
      ],
      "metadata": {
        "id": "TMU0p-ZsjPRD",
        "outputId": "bc0f8d3e-502f-4411-f812-c2d8f1a4da35",
        "colab": {
          "base_uri": "https://localhost:8080/"
        }
      },
      "id": "TMU0p-ZsjPRD",
      "execution_count": 5,
      "outputs": [
        {
          "output_type": "stream",
          "name": "stdout",
          "text": [
            "Ali spent total: 250\n",
            "Sara spent total: 350\n",
            "Raheel spent total: 220\n",
            "Naveed spent total: 300\n"
          ]
        }
      ]
    },
    {
      "cell_type": "markdown",
      "id": "9df85479-cd55-4385-90aa-19b0ecc04bcc",
      "metadata": {
        "id": "9df85479-cd55-4385-90aa-19b0ecc04bcc"
      },
      "source": [
        "Question 6:\n",
        "\n",
        "Print the maximum item price for each order. (Using nested while loop)\n",
        "\n",
        "orders = [ {\"order_id\": 1, \"customer\": \"Ali\", \"items\": [120, 80, 50]}, {\"order_id\": 2, \"customer\": \"Sara\", \"items\": [200, 150]}, {\"order_id\": 3, \"customer\": \"Raheel\", \"items\": [90, 60, 40, 30]}, {\"order_id\": 4, \"customer\": \"Naveed\", \"items\": [300]}, ]\n",
        "\n",
        "Expected Output:\n",
        "\n",
        "Most expensive item in Order 1 = 120\n",
        "\n",
        "Most expensive item in Order 2 = 200\n",
        "\n",
        "Most expensive item in Order 3 = 90\n",
        "\n",
        "Most expensive item in Order 4 = 300"
      ]
    },
    {
      "cell_type": "code",
      "source": [
        "orders = [\n",
        "    {\"order_id\": 1, \"customer\": \"Ali\", \"items\": [120, 80, 50]},\n",
        "    {\"order_id\": 2, \"customer\": \"Sara\", \"items\": [200, 150]},\n",
        "    {\"order_id\": 3, \"customer\": \"Raheel\", \"items\": [90, 60, 40, 30]},\n",
        "    {\"order_id\": 4, \"customer\": \"Naveed\", \"items\": [300]},\n",
        "]\n",
        "\n",
        "i = 0\n",
        "while i < len(orders):\n",
        "    order = orders[i]\n",
        "    items = order[\"items\"]\n",
        "\n",
        "    j = 0\n",
        "    max_price = items[0]\n",
        "\n",
        "    while j < len(items):\n",
        "        if items[j] > max_price:\n",
        "            max_price = items[j]\n",
        "        j += 1\n",
        "\n",
        "    print(f\"Most expensive item in Order {order['order_id']} = {max_price}\")\n",
        "    i += 1\n"
      ],
      "metadata": {
        "id": "sg_R36dHj2bj",
        "outputId": "c3743e6f-f53e-465c-b496-0c8ead747c92",
        "colab": {
          "base_uri": "https://localhost:8080/"
        }
      },
      "id": "sg_R36dHj2bj",
      "execution_count": 6,
      "outputs": [
        {
          "output_type": "stream",
          "name": "stdout",
          "text": [
            "Most expensive item in Order 1 = 120\n",
            "Most expensive item in Order 2 = 200\n",
            "Most expensive item in Order 3 = 90\n",
            "Most expensive item in Order 4 = 300\n"
          ]
        }
      ]
    },
    {
      "cell_type": "markdown",
      "id": "937da036-8d3c-4ea7-a673-09b22d804e90",
      "metadata": {
        "id": "937da036-8d3c-4ea7-a673-09b22d804e90"
      },
      "source": [
        "Question 7:\n",
        "\n",
        "Write a Python program to create a single list (list comprehension) that contains all numbers from 1 to 50 which are multiples of 5 and 10.\n",
        "\n",
        "Expected Output:\n",
        "\n",
        "Multiples of 5 and 10 from 1 to 50: [10, 20, 30, 40, 50]\n"
      ]
    },
    {
      "cell_type": "code",
      "source": [
        "numbers = [i for i in range (1,51) if i % 10 == 0]\n",
        "print(numbers,end=\" \")\n"
      ],
      "metadata": {
        "id": "2Ef8-kgZj-QH",
        "outputId": "e565672e-ad92-481b-874e-564055dee545",
        "colab": {
          "base_uri": "https://localhost:8080/"
        }
      },
      "id": "2Ef8-kgZj-QH",
      "execution_count": 7,
      "outputs": [
        {
          "output_type": "stream",
          "name": "stdout",
          "text": [
            "[10, 20, 30, 40, 50] "
          ]
        }
      ]
    },
    {
      "cell_type": "markdown",
      "id": "30e197b2-1fde-4ea1-81dd-078ea3c45379",
      "metadata": {
        "id": "30e197b2-1fde-4ea1-81dd-078ea3c45379"
      },
      "source": [
        "Question 8:\n",
        "\n",
        "employees = [\n",
        "    {\"emp_id\": 1, \"name\": \"Ali\", \"dept\": \"Sales\", \"salary\": 50000, \"experience\": 2},\n",
        "    {\"emp_id\": 2, \"name\": \"Sara\", \"dept\": \"IT\", \"salary\": 65000, \"experience\": 5},\n",
        "    {\"emp_id\": 3, \"name\": \"Raheel\", \"dept\": \"HR\", \"salary\": 45000, \"experience\": 1},\n",
        "    {\"emp_id\": 4, \"name\": \"Naveed\", \"dept\": \"Finance\", \"salary\": 70000, \"experience\": 7},\n",
        "    {\"emp_id\": 5, \"name\": \"Ayesha\", \"dept\": \"IT\", \"salary\": 72000, \"experience\": 6},\n",
        "    {\"emp_id\": 6, \"name\": \"Talha\", \"dept\": \"Sales\", \"salary\": 55000, \"experience\": 3},\n",
        "    {\"emp_id\": 7, \"name\": \"Sana\", \"dept\": \"Finance\", \"salary\": 80000, \"experience\": 8},\n",
        "    {\"emp_id\": 8, \"name\": \"Hina\", \"dept\": \"HR\", \"salary\": 48000, \"experience\": 2},\n",
        "]\n",
        "\n",
        "Using List Comprehension\n",
        "\n",
        "Employees with salary > 60,000 AND experience > 5 years\n",
        "\n",
        "Expected Output:\n",
        "['Naveed', 'Ayesha', 'Sana']\n"
      ]
    },
    {
      "cell_type": "code",
      "source": [
        "employees = [ {\"emp_id\": 1, \"name\": \"Ali\", \"dept\": \"Sales\", \"salary\": 50000, \"experience\": 2},\n",
        "              {\"emp_id\": 2, \"name\": \"Sara\", \"dept\": \"IT\", \"salary\": 65000, \"experience\": 5},\n",
        "              {\"emp_id\": 3, \"name\": \"Raheel\", \"dept\": \"HR\", \"salary\": 45000, \"experience\": 1},\n",
        "              {\"emp_id\": 4, \"name\": \"Naveed\", \"dept\": \"Finance\", \"salary\": 70000, \"experience\": 7},\n",
        "              {\"emp_id\": 5, \"name\": \"Ayesha\", \"dept\": \"IT\", \"salary\": 72000, \"experience\": 6},\n",
        "              {\"emp_id\": 6, \"name\": \"Talha\", \"dept\": \"Sales\", \"salary\": 55000, \"experience\": 3},\n",
        "              {\"emp_id\": 7, \"name\": \"Sana\", \"dept\": \"Finance\", \"salary\": 80000, \"experience\": 8},\n",
        "              {\"emp_id\": 8, \"name\": \"Hina\", \"dept\": \"HR\", \"salary\": 48000, \"experience\": 2}, ]\n",
        "shuffle_employee = [emp[\"name\"]for emp in employees if emp['salary'] > 60000 and emp[\"experience\"] > 5]\n",
        "shuffle_employee\n"
      ],
      "metadata": {
        "id": "kkt0X0oGkGMM",
        "outputId": "5e5ff179-9f51-4e60-8c58-3a84dd39da0a",
        "colab": {
          "base_uri": "https://localhost:8080/"
        }
      },
      "id": "kkt0X0oGkGMM",
      "execution_count": 8,
      "outputs": [
        {
          "output_type": "execute_result",
          "data": {
            "text/plain": [
              "['Naveed', 'Ayesha', 'Sana']"
            ]
          },
          "metadata": {},
          "execution_count": 8
        }
      ]
    },
    {
      "cell_type": "markdown",
      "id": "272760fb-2e38-40c4-a02a-9ef737ef1480",
      "metadata": {
        "id": "272760fb-2e38-40c4-a02a-9ef737ef1480"
      },
      "source": [
        "Question 9:\n",
        "\n",
        "Employees with NOT HR department\n",
        "\n",
        "Expected Output:\n",
        "['Ali', 'Sara', 'Naveed', 'Ayesha', 'Talha', 'Sana']\n"
      ]
    },
    {
      "cell_type": "code",
      "source": [
        "no_Hr_employe = [emp['name'] for emp in employees if emp['dept'] != 'HR']\n",
        "no_Hr_employe"
      ],
      "metadata": {
        "id": "hW5yXxAIlscD",
        "outputId": "c2b7664b-41f3-410b-8062-fd1f273fae37",
        "colab": {
          "base_uri": "https://localhost:8080/"
        }
      },
      "id": "hW5yXxAIlscD",
      "execution_count": 12,
      "outputs": [
        {
          "output_type": "execute_result",
          "data": {
            "text/plain": [
              "['Ali', 'Sara', 'Naveed', 'Ayesha', 'Talha', 'Sana']"
            ]
          },
          "metadata": {},
          "execution_count": 12
        }
      ]
    },
    {
      "cell_type": "markdown",
      "id": "2edcf529-d79d-4f32-a576-f2cc918a9a47",
      "metadata": {
        "id": "2edcf529-d79d-4f32-a576-f2cc918a9a47"
      },
      "source": [
        "Question 10:\n",
        "\n",
        "Employees NOT in Sales OR experience > 5\n",
        "\n",
        "Expected Output:\n",
        "['Sara', 'Raheel', 'Naveed', 'Ayesha', 'Sana', 'Hina']\n"
      ]
    },
    {
      "cell_type": "code",
      "source": [
        "employees = [\n",
        "             {\"emp_id\": 1, \"name\": \"Ali\", \"dept\": \"Sales\", \"salary\": 50000, \"experience\": 2},\n",
        "             {\"emp_id\": 2, \"name\": \"Sara\", \"dept\": \"IT\", \"salary\": 65000, \"experience\": 5},\n",
        "             {\"emp_id\": 3, \"name\": \"Raheel\", \"dept\": \"HR\", \"salary\": 45000, \"experience\": 1},\n",
        "             {\"emp_id\": 4, \"name\": \"Naveed\", \"dept\": \"Finance\", \"salary\": 70000, \"experience\": 7},\n",
        "             {\"emp_id\": 5, \"name\": \"Ayesha\", \"dept\": \"IT\", \"salary\": 72000, \"experience\": 6},\n",
        "             {\"emp_id\": 6, \"name\": \"Talha\", \"dept\": \"Sales\", \"salary\": 55000, \"experience\": 3},\n",
        "             {\"emp_id\": 7, \"name\": \"Sana\", \"dept\": \"Finance\", \"salary\": 80000, \"experience\": 8},\n",
        "             {\"emp_id\": 8, \"name\": \"Hina\", \"dept\": \"HR\", \"salary\": 48000, \"experience\": 2}, ]\n",
        "\n",
        "other_employe = [emp['name'] for emp in employees if emp['dept'] !='Sales' or emp['experience']>5]\n",
        "other_employe"
      ],
      "metadata": {
        "id": "d95vVEeEhU0l",
        "outputId": "48a4d4e8-37dc-4736-c21c-753a0100f2c6",
        "colab": {
          "base_uri": "https://localhost:8080/"
        }
      },
      "id": "d95vVEeEhU0l",
      "execution_count": 10,
      "outputs": [
        {
          "output_type": "execute_result",
          "data": {
            "text/plain": [
              "['Sara', 'Raheel', 'Naveed', 'Ayesha', 'Sana', 'Hina']"
            ]
          },
          "metadata": {},
          "execution_count": 10
        }
      ]
    },
    {
      "cell_type": "code",
      "execution_count": null,
      "id": "4856cf4c-2141-4698-bb59-0b748b0b7034",
      "metadata": {
        "id": "4856cf4c-2141-4698-bb59-0b748b0b7034"
      },
      "outputs": [],
      "source": []
    }
  ],
  "metadata": {
    "kernelspec": {
      "display_name": "Python 3 (ipykernel)",
      "language": "python",
      "name": "python3"
    },
    "language_info": {
      "codemirror_mode": {
        "name": "ipython",
        "version": 3
      },
      "file_extension": ".py",
      "mimetype": "text/x-python",
      "name": "python",
      "nbconvert_exporter": "python",
      "pygments_lexer": "ipython3",
      "version": "3.12.7"
    },
    "colab": {
      "provenance": []
    }
  },
  "nbformat": 4,
  "nbformat_minor": 5
}