{
  "cells": [
    {
      "cell_type": "markdown",
      "id": "7e777340-fcd5-4c13-9ae0-e80ade2b8a3a",
      "metadata": {
        "id": "7e777340-fcd5-4c13-9ae0-e80ade2b8a3a"
      },
      "source": [
        "Q1. Write a Python program that prints the multiplication table for a given number (between 1 and 10) using a for loop.\n",
        "\n",
        "Hint:\n",
        "\n",
        "Ask the user for a number between 1 and 10 .\n",
        "Use a for loop to iterate through the numbers from 1 to 10.\n",
        "For each iteration, calculate the product of the given number and the current number in the loop.\n",
        "Print the result in a readable format (e.g., 5 x 1 = 5).\n",
        "Ensure the program works correctly for any number between 1 and 10.\n",
        "Output Hint:\n",
        "\n",
        "- 4 x 1 = 4\n",
        "- 4 x 2 = 8\n",
        "- 4 x 3 = 12\n",
        "- 4 x 4 = 16\n",
        "- 4 x 5 = 20\n",
        "- 4 x 6 = 24\n",
        "- 4 x 7 = 28\n",
        "- 4 x 8 = 32\n",
        "- 4 x 9 = 36\n",
        "- 4 x 10 = 40"
      ]
    },
    {
      "cell_type": "code",
      "source": [
        "n = int(input(\"Enter a number for table  \"))\n",
        "\n",
        "for i in range(1,11):\n",
        "  print(f\"{n} x {i} = {n*i}\")"
      ],
      "metadata": {
        "id": "tbTU8gGVDxUT",
        "outputId": "1322bd76-d8ee-4951-d00a-cafde62a7bc3",
        "colab": {
          "base_uri": "https://localhost:8080/"
        }
      },
      "id": "tbTU8gGVDxUT",
      "execution_count": null,
      "outputs": [
        {
          "output_type": "stream",
          "name": "stdout",
          "text": [
            "Enter a number for table  7\n",
            "7 x 1 = 7\n",
            "7 x 2 = 14\n",
            "7 x 3 = 21\n",
            "7 x 4 = 28\n",
            "7 x 5 = 35\n",
            "7 x 6 = 42\n",
            "7 x 7 = 49\n",
            "7 x 8 = 56\n",
            "7 x 9 = 63\n",
            "7 x 10 = 70\n"
          ]
        }
      ]
    },
    {
      "cell_type": "markdown",
      "id": "93c6d6ba-b4ef-4284-a0e9-9db6eaf2a2cf",
      "metadata": {
        "id": "93c6d6ba-b4ef-4284-a0e9-9db6eaf2a2cf"
      },
      "source": [
        "Q2. Stop sending emails after 3 users (Using for loop and break)\n",
        "\n",
        "users = [\"Ali\", \"Sara\", \"John\", \"Zara\", \"Mike\"]\n",
        "\n",
        "Output:\n",
        "\n",
        "Email sent to Ali\n",
        "\n",
        "Email sent to Sara\n",
        "\n",
        "Email sent to John\n",
        "\n",
        "Limit reached. Stop sending emails."
      ]
    },
    {
      "cell_type": "code",
      "source": [
        "users = [\"Ali\", \"Sara\", \"John\", \"Zara\", \"Mike\"]\n",
        "for user in range(len(users)):\n",
        "  if user == 3:\n",
        "    print(\"limited reached.Stop sending emails\")\n",
        "    break\n",
        "  print(f\"Email sent to {users[user]}\")"
      ],
      "metadata": {
        "id": "tlDZ56g2FIm3",
        "outputId": "3c8f033f-abeb-43bd-9ab0-592990606e3a",
        "colab": {
          "base_uri": "https://localhost:8080/"
        }
      },
      "id": "tlDZ56g2FIm3",
      "execution_count": null,
      "outputs": [
        {
          "output_type": "stream",
          "name": "stdout",
          "text": [
            "Email sent to Ali\n",
            "Email sent to Sara\n",
            "Email sent to John\n",
            "limited reached.Stop sending emails\n"
          ]
        }
      ]
    },
    {
      "cell_type": "markdown",
      "id": "fa38e056-f606-41d9-8748-2209cb4eaad7",
      "metadata": {
        "id": "fa38e056-f606-41d9-8748-2209cb4eaad7"
      },
      "source": [
        "Q3. Stop monitoring temperature if critical temperature reached (Using for loop and break)\n",
        "\n",
        "temps = [22, 25, 30, 45, 28]\n",
        "critical = 40\n",
        "\n",
        "Ouput:\n",
        "\n",
        "Temperature: 22\n",
        "\n",
        "Temperature: 25\n",
        "\n",
        "Temperature: 30\n",
        "\n",
        "Critical temperature reached! Stop monitoring."
      ]
    },
    {
      "cell_type": "code",
      "source": [
        "temps = [22, 25, 30, 45, 28]\n",
        "Critical = 40\n",
        "for i in temps:\n",
        "  if i >= Critical:\n",
        "    print(\"Critical temperature reached! Stop monitoring\")\n",
        "    break\n",
        "  print(f\"Temperature {i}\")"
      ],
      "metadata": {
        "id": "yCpK0x4LHtQQ",
        "outputId": "fdfe2889-8a86-439a-c5ac-872770493ad0",
        "colab": {
          "base_uri": "https://localhost:8080/"
        }
      },
      "id": "yCpK0x4LHtQQ",
      "execution_count": null,
      "outputs": [
        {
          "output_type": "stream",
          "name": "stdout",
          "text": [
            "Temperature 22\n",
            "Temperature 25\n",
            "Temperature 30\n",
            "Critical temperature reached! Stop monitoring\n"
          ]
        }
      ]
    },
    {
      "cell_type": "markdown",
      "id": "7f5bbc99-28e7-4866-b306-58221f72076c",
      "metadata": {
        "id": "7f5bbc99-28e7-4866-b306-58221f72076c"
      },
      "source": [
        "Q4. Calculate total price of items in a shopping cart (Using For loop)\n",
        "\n",
        "cart = [100, 250, 50, 300]\n",
        "\n",
        "Output:\n",
        "\n",
        "Total Price: 700"
      ]
    },
    {
      "cell_type": "code",
      "source": [
        "cart = [100, 250, 50, 300]\n",
        "total =0\n",
        "for num in  cart:\n",
        "  total += num\n",
        "print(\"Total price : \",total)"
      ],
      "metadata": {
        "id": "Ker_3PcaKI8J",
        "outputId": "53040ed5-fd89-499d-fed8-5e9c995257ca",
        "colab": {
          "base_uri": "https://localhost:8080/"
        }
      },
      "id": "Ker_3PcaKI8J",
      "execution_count": null,
      "outputs": [
        {
          "output_type": "stream",
          "name": "stdout",
          "text": [
            "Total price :  700\n"
          ]
        }
      ]
    },
    {
      "cell_type": "markdown",
      "id": "d01d8825-6b0a-44f5-962f-f805700a8e08",
      "metadata": {
        "id": "d01d8825-6b0a-44f5-962f-f805700a8e08"
      },
      "source": [
        "Q5. Skip customers with unpaid bills (Using For loop and continue)\n",
        "\n",
        "customers = [\n",
        "    {\"name\": \"Ali\", \"paid\": True},\n",
        "    \n",
        "    {\"name\": \"Sara\", \"paid\": False},\n",
        "    \n",
        "    {\"name\": \"John\", \"paid\": True}\n",
        "]\n",
        "\n",
        "\n",
        "Output:\n",
        "\n",
        "Access granted to: Ali\n",
        "\n",
        "Access granted to: John\n"
      ]
    },
    {
      "cell_type": "code",
      "source": [
        "customers = [\n",
        "    {\"name\": \"Ali\", \"paid\": True},\n",
        "    {\"name\": \"Sara\", \"paid\": False},\n",
        "    {\"name\": \"John\", \"paid\": True}\n",
        "]\n",
        "\n",
        "for customer in customers:\n",
        "    if not customer[\"paid\"]:\n",
        "        continue\n",
        "    print(f\"Access granted to: {customer['name']}\")\n"
      ],
      "metadata": {
        "colab": {
          "base_uri": "https://localhost:8080/"
        },
        "id": "A3eUWlh9vN98",
        "outputId": "479ebc94-eea8-4821-cac6-b233124140b0"
      },
      "id": "A3eUWlh9vN98",
      "execution_count": 1,
      "outputs": [
        {
          "output_type": "stream",
          "name": "stdout",
          "text": [
            "Access granted to: Ali\n",
            "Access granted to: John\n"
          ]
        }
      ]
    },
    {
      "cell_type": "markdown",
      "id": "f6cfe812-c319-40e5-ac17-cef6e72488dd",
      "metadata": {
        "id": "f6cfe812-c319-40e5-ac17-cef6e72488dd"
      },
      "source": [
        "Q6. Send personalized emails to a list of users (Using for loop)\n",
        "\n",
        "users = [\"Ali\", \"Sara\", \"John\"]\n",
        "\n",
        "Output:\n",
        "\n",
        "- Hello Ali, your subscription is active!\n",
        "- Hello Sara, your subscription is active!\n",
        "- Hello John, your subscription is active!\n"
      ]
    },
    {
      "cell_type": "code",
      "source": [
        "users = [\"Ali\", \"Sara\", \"John\"]\n",
        "\n",
        "for user in users:\n",
        "    print(f\"Hello {user}, your subscription is active!\")\n"
      ],
      "metadata": {
        "colab": {
          "base_uri": "https://localhost:8080/"
        },
        "id": "7_HGzeSwvymi",
        "outputId": "f02a6511-bed5-4635-9076-970e4b90d453"
      },
      "id": "7_HGzeSwvymi",
      "execution_count": 2,
      "outputs": [
        {
          "output_type": "stream",
          "name": "stdout",
          "text": [
            "Hello Ali, your subscription is active!\n",
            "Hello Sara, your subscription is active!\n",
            "Hello John, your subscription is active!\n"
          ]
        }
      ]
    },
    {
      "cell_type": "markdown",
      "id": "8ac2616e-f0fb-433f-a1c5-0adf73e50429",
      "metadata": {
        "id": "8ac2616e-f0fb-433f-a1c5-0adf73e50429"
      },
      "source": [
        "Q7. Extract domain names from email list (Using for loop)\n",
        "\n",
        "emails = [\"ali@gmail.com\", \"sara@yahoo.com\", \"john@hotmail.com\"]\n",
        "\n",
        "Output:\n",
        "\n",
        "domains: ['gmail.com', 'yahoo.com', 'hotmail.com']\n"
      ]
    },
    {
      "cell_type": "code",
      "source": [
        "emails = [\"ali@gmail.com\", \"sara@yahoo.com\", \"john@hotmail.com\"]\n",
        "domains = []\n",
        "\n",
        "for email in emails:\n",
        "    domain = email.split('@')[1]  # Splits the email and takes the part after '@'\n",
        "    domains.append(domain)        # Adds the domain to the list\n",
        "\n",
        "print(\"domains:\", domains)\n"
      ],
      "metadata": {
        "colab": {
          "base_uri": "https://localhost:8080/"
        },
        "id": "1ZbAjADTwa0z",
        "outputId": "a98d6067-28c3-4230-da55-feef55adc4af"
      },
      "id": "1ZbAjADTwa0z",
      "execution_count": 3,
      "outputs": [
        {
          "output_type": "stream",
          "name": "stdout",
          "text": [
            "domains: ['gmail.com', 'yahoo.com', 'hotmail.com']\n"
          ]
        }
      ]
    },
    {
      "cell_type": "markdown",
      "id": "bc118672-58b5-44e3-8895-0685921efdda",
      "metadata": {
        "id": "bc118672-58b5-44e3-8895-0685921efdda"
      },
      "source": [
        "Q8. Print only overdue tasks (Using for loop)\n",
        "\n",
        "tasks = [\n",
        "    {\"task\": \"Pay bills\", \"status\": \"done\"},\n",
        "    \n",
        "    {\"task\": \"Submit report\", \"status\": \"pending\"},\n",
        "    \n",
        "    {\"task\": \"Clean house\", \"status\": \"pending\"}\n",
        "]\n",
        "\n",
        "\n",
        "Ouput:\n",
        "\n",
        "Overdue: Submit report\n",
        "\n",
        "Overdue: Clean house"
      ]
    },
    {
      "cell_type": "code",
      "source": [
        "tasks = [\n",
        "    {\"task\": \"Pay bills\", \"status\": \"done\"},\n",
        "    {\"task\": \"Submit report\", \"status\": \"pending\"},\n",
        "    {\"task\": \"Clean house\", \"status\": \"pending\"}\n",
        "]\n",
        "\n",
        "for task in tasks:\n",
        "    if task[\"status\"] == \"pending\":\n",
        "        print(f\"Overdue: {task['task']}\")\n"
      ],
      "metadata": {
        "colab": {
          "base_uri": "https://localhost:8080/"
        },
        "id": "CaDYY2UDwnFG",
        "outputId": "9e2f1f71-1eb3-4c42-c3a2-e2793ceac889"
      },
      "id": "CaDYY2UDwnFG",
      "execution_count": 5,
      "outputs": [
        {
          "output_type": "stream",
          "name": "stdout",
          "text": [
            "Overdue: Submit report\n",
            "Overdue: Clean house\n"
          ]
        }
      ]
    },
    {
      "cell_type": "markdown",
      "id": "c3d3986b-d13f-4afd-829d-b7b1a6f8a526",
      "metadata": {
        "id": "c3d3986b-d13f-4afd-829d-b7b1a6f8a526"
      },
      "source": [
        "Q9. Extract names of employees with salary above 50,000\n",
        "\n",
        "employees = [\n",
        "    {\"name\": \"Ali\", \"salary\": 60000},\n",
        "    \n",
        "    {\"name\": \"Sara\", \"salary\": 45000},\n",
        "    \n",
        "    {\"name\": \"John\", \"salary\": 70000}\n",
        "]\n",
        "\n",
        "\n",
        "Output:\n",
        "\n",
        "Ali earns above 50,000\n",
        "\n",
        "John earns above 50,000"
      ]
    },
    {
      "cell_type": "code",
      "source": [
        "employees = [\n",
        "    {\"name\": \"Ali\", \"salary\": 60000},\n",
        "    {\"name\": \"Sara\", \"salary\": 45000},\n",
        "    {\"name\": \"John\", \"salary\": 70000}\n",
        "]\n",
        "\n",
        "for employee in employees:\n",
        "    if employee[\"salary\"] > 50000:\n",
        "        print(f\"{employee['name']} earns above 50,000\")\n"
      ],
      "metadata": {
        "colab": {
          "base_uri": "https://localhost:8080/"
        },
        "id": "18PnBckcxFJj",
        "outputId": "b92a5711-821f-457c-f182-293e7ee96d46"
      },
      "id": "18PnBckcxFJj",
      "execution_count": 6,
      "outputs": [
        {
          "output_type": "stream",
          "name": "stdout",
          "text": [
            "Ali earns above 50,000\n",
            "John earns above 50,000\n"
          ]
        }
      ]
    },
    {
      "cell_type": "markdown",
      "id": "f1db4dfb-ea09-4b1b-9383-28d7a5253f06",
      "metadata": {
        "id": "f1db4dfb-ea09-4b1b-9383-28d7a5253f06"
      },
      "source": [
        "Q10. Skip weekends while printing workdays (Using for loop and continue)\n",
        "\n",
        "days = [\"Monday\", \"Tuesday\", \"Wednesday\", \"Thursday\", \"Friday\", \"Saturday\", \"Sunday\"]\n",
        "\n",
        "Output:\n",
        "\n",
        "Workday: Monday\n",
        "\n",
        "Workday: Tuesday\n",
        "\n",
        "Workday: Wednesday\n",
        "\n",
        "Workday: Thursday\n",
        "\n",
        "Workday: Friday\n"
      ]
    },
    {
      "cell_type": "code",
      "source": [
        "days = [\"Monday\", \"Tuesday\", \"Wednesday\", \"Thursday\", \"Friday\", \"Saturday\", \"Sunday\"]\n",
        "\n",
        "for day in days:\n",
        "    if day == \"Saturday\" or day == \"Sunday\":\n",
        "        continue  # Skip weekends\n",
        "    print(f\"Workday: {day}\")\n"
      ],
      "metadata": {
        "colab": {
          "base_uri": "https://localhost:8080/"
        },
        "id": "eTY_-oidxD-R",
        "outputId": "774e19bd-c548-414d-9ee8-0132b5aecb5d"
      },
      "id": "eTY_-oidxD-R",
      "execution_count": 7,
      "outputs": [
        {
          "output_type": "stream",
          "name": "stdout",
          "text": [
            "Workday: Monday\n",
            "Workday: Tuesday\n",
            "Workday: Wednesday\n",
            "Workday: Thursday\n",
            "Workday: Friday\n"
          ]
        }
      ]
    },
    {
      "cell_type": "code",
      "execution_count": null,
      "id": "3909f284-36f9-401d-95b9-83d2a1b65f71",
      "metadata": {
        "id": "3909f284-36f9-401d-95b9-83d2a1b65f71"
      },
      "outputs": [],
      "source": []
    }
  ],
  "metadata": {
    "kernelspec": {
      "display_name": "Python 3 (ipykernel)",
      "language": "python",
      "name": "python3"
    },
    "language_info": {
      "codemirror_mode": {
        "name": "ipython",
        "version": 3
      },
      "file_extension": ".py",
      "mimetype": "text/x-python",
      "name": "python",
      "nbconvert_exporter": "python",
      "pygments_lexer": "ipython3",
      "version": "3.12.7"
    },
    "colab": {
      "provenance": []
    }
  },
  "nbformat": 4,
  "nbformat_minor": 5
}