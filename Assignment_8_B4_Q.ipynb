{
  "cells": [
    {
      "cell_type": "markdown",
      "id": "94b44a26-a3e1-40b6-a2f8-5288da630659",
      "metadata": {
        "id": "94b44a26-a3e1-40b6-a2f8-5288da630659"
      },
      "source": [
        "Q1. Write a Python function called add_numbers that takes two numbers as arguments and returns their sum. Then, test the function by calling it with two numbers of your choice.\n"
      ]
    },
    {
      "cell_type": "code",
      "source": [
        "def add_numbers (a,b):\n",
        "  print(f'Sum of {a} and {b} is = {a+b}')\n",
        "\n",
        "add_numbers(7,8)\n",
        "add_numbers(9,78)\n",
        "add_numbers(9,91)"
      ],
      "metadata": {
        "id": "3P1yMp6p1-OK",
        "outputId": "ce7eb8c9-a40e-4f33-f64a-65771f1604d2",
        "colab": {
          "base_uri": "https://localhost:8080/"
        }
      },
      "id": "3P1yMp6p1-OK",
      "execution_count": 4,
      "outputs": [
        {
          "output_type": "stream",
          "name": "stdout",
          "text": [
            "Sum of 7 and 8 is = 15\n",
            "Sum of 9 and 78 is = 87\n",
            "Sum of 9 and 91 is = 100\n"
          ]
        }
      ]
    },
    {
      "cell_type": "markdown",
      "id": "2df82858-cc42-45be-b4d8-a6d24073bb06",
      "metadata": {
        "id": "2df82858-cc42-45be-b4d8-a6d24073bb06"
      },
      "source": [
        "Q2. Write a Python function count_vowels that accepts a string and returns the number of vowels a, e, i, o, u, A, E, I, O, U in that string.\n",
        "\n",
        "- Example: 'Welcome'\n",
        "- Output: 3 vowels"
      ]
    },
    {
      "cell_type": "code",
      "source": [
        "def count_vowels():\n",
        "  guess = input(\"Enter words to check quantity of vowels = \").lower()\n",
        "  vowels ='aeiou'\n",
        "  vowels_counter = 0\n",
        "  for vowel in vowels:\n",
        "    vowels_counter += guess.count(vowel)\n",
        "  print(f\"Numbers of vowels are {vowels_counter}\")\n",
        "\n",
        "count_vowels()"
      ],
      "metadata": {
        "id": "xjvHuopT22On",
        "outputId": "d51147ec-1564-4244-83c9-33817cf04898",
        "colab": {
          "base_uri": "https://localhost:8080/"
        }
      },
      "id": "xjvHuopT22On",
      "execution_count": 16,
      "outputs": [
        {
          "output_type": "stream",
          "name": "stdout",
          "text": [
            "Enter words to check quantity of vowels = welcome \n",
            "Numbers of vowels are 3\n"
          ]
        }
      ]
    },
    {
      "cell_type": "markdown",
      "id": "14ada7c2-26ff-467b-9856-2bae9d7b673f",
      "metadata": {
        "id": "14ada7c2-26ff-467b-9856-2bae9d7b673f"
      },
      "source": [
        "Q3. Create a Python function called currency_converter() that takes two arguments:\n",
        "\n",
        "- amount: The amount of money to be converted (in USD).\n",
        "- exchange_rate (default is 280): The conversion rate from USD to another currency (e.g., PKR). You can assume the default rate is 1 USD = 280 PKR.\n",
        "-\n",
        "The function should return a message showing how much the given amount is worth in the target currency (PKR).\n",
        "\n",
        "Expected Output:\n",
        "\n",
        "'100 USD is equivalent to 28000 PKR'"
      ]
    },
    {
      "cell_type": "code",
      "source": [
        "def currency_converter(amount ,exchange_rate =280):\n",
        "  currency_converted = amount * exchange_rate\n",
        "  print(f\"{amount} USD is equivalent to {currency_converted} PKR\")\n",
        "currency_converter(200)"
      ],
      "metadata": {
        "id": "raDXFC5D-M6F",
        "outputId": "38fa7268-05e4-47dc-da91-62081b8851b1",
        "colab": {
          "base_uri": "https://localhost:8080/"
        }
      },
      "id": "raDXFC5D-M6F",
      "execution_count": 24,
      "outputs": [
        {
          "output_type": "stream",
          "name": "stdout",
          "text": [
            "200 USD is equivalent to 56000 PKR\n"
          ]
        }
      ]
    },
    {
      "cell_type": "markdown",
      "id": "2be859c9-23bb-4cff-abee-092295757847",
      "metadata": {
        "id": "2be859c9-23bb-4cff-abee-092295757847"
      },
      "source": [
        "Q4. Write a Python function display_student_info that accepts the following details about a student:\n",
        "\n",
        "- name (Keyword argument): The name of the student.\n",
        "- age (Keyword argument): The age of the student.\n",
        "- grade (Keyword argument): The grade the student is in.\n",
        "- school (Keyword argument): The name of the school the student attends.\n",
        "\n",
        "Expected Output:\n",
        "\n",
        "- Name: John Doe\n",
        "- Age: 15\n",
        "- Grade: 10th\n",
        "- School: Greenwood High"
      ]
    },
    {
      "cell_type": "code",
      "source": [
        "def display_student_info(name,age,grade,school):\n",
        "  print(f'''Name : {name}\n",
        "Age :{age}\n",
        "grade :{grade}\n",
        "school : {school}''')\n",
        "\n",
        "display_student_info(name = 'ali',age = '12',grade='1st',school='elixir')\n"
      ],
      "metadata": {
        "id": "Y0MsdSEJ_zTb",
        "outputId": "0e218236-907a-4529-8ad6-669e6cf5d661",
        "colab": {
          "base_uri": "https://localhost:8080/"
        }
      },
      "id": "Y0MsdSEJ_zTb",
      "execution_count": 34,
      "outputs": [
        {
          "output_type": "stream",
          "name": "stdout",
          "text": [
            "Name : ali \n",
            "Age :12\n",
            "grade :1st\n",
            "school : elixir\n"
          ]
        }
      ]
    },
    {
      "cell_type": "markdown",
      "id": "6fa029c5-095c-463f-b29d-ff8469cbdfea",
      "metadata": {
        "id": "6fa029c5-095c-463f-b29d-ff8469cbdfea"
      },
      "source": [
        "Q5. Write a Python function calculate_price that accepts two positional arguments:\n",
        "\n",
        "- price: The price of a single item.\n",
        "- quantity: The number of items bought.\n",
        "- The function should return the total price by multiplying price and quantity.\n"
      ]
    },
    {
      "cell_type": "code",
      "source": [
        "def calculate_price(price,quantity):\n",
        "  total_price = price*quantity\n",
        "  print(f'The total price is {total_price}')\n",
        "\n",
        "calculate_price(550,5)"
      ],
      "metadata": {
        "id": "Hp8WbgDoDZC8",
        "outputId": "dc9abac2-48fa-4309-9a07-21899962f9c1",
        "colab": {
          "base_uri": "https://localhost:8080/"
        }
      },
      "id": "Hp8WbgDoDZC8",
      "execution_count": 36,
      "outputs": [
        {
          "output_type": "stream",
          "name": "stdout",
          "text": [
            "The total price is 2750\n"
          ]
        }
      ]
    },
    {
      "cell_type": "markdown",
      "id": "b0952c84-56d3-478a-8772-ba5434fc4f2f",
      "metadata": {
        "id": "b0952c84-56d3-478a-8772-ba5434fc4f2f"
      },
      "source": [
        "Q6. Write a Python function display_prices that takes a product name and an arbitrary number of keyword arguments representing product prices. The function should display each product and its price.\n",
        "\n",
        "Expected Output:\n",
        "\n",
        "Product: Laptop\n",
        "\n",
        "Amazon: $800\n",
        "\n",
        "eBay: $750\n",
        "\n",
        "Walmart: $780"
      ]
    },
    {
      "cell_type": "code",
      "source": [
        "def display_prices(product,**prices):\n",
        "  print(f\"Product : {product} \")\n",
        "  for store ,price in prices.items():\n",
        "    print(f'{store} : {price}')\n",
        "\n",
        "display_prices(product= 'laptop',Amazon ='$800',ebay=\"$759\",walmart =\"$780\")"
      ],
      "metadata": {
        "id": "Dl6kZAP3EZTS",
        "outputId": "f61cd5dc-30db-4308-d8ce-befd607953da",
        "colab": {
          "base_uri": "https://localhost:8080/"
        }
      },
      "id": "Dl6kZAP3EZTS",
      "execution_count": 43,
      "outputs": [
        {
          "output_type": "stream",
          "name": "stdout",
          "text": [
            "Product : laptop \n",
            "Amazon : $800\n",
            "ebay : $759\n",
            "walmart : $780\n"
          ]
        }
      ]
    },
    {
      "cell_type": "markdown",
      "id": "18d9013b-c0e4-4e14-82e7-6c0d03917322",
      "metadata": {
        "id": "18d9013b-c0e4-4e14-82e7-6c0d03917322"
      },
      "source": [
        "Q7. Write a Python function find_max that takes arbitrary number of positional arguments and returns the maximum number."
      ]
    },
    {
      "cell_type": "code",
      "source": [
        "def find_max(*args):\n",
        " print(max(args))\n",
        "\n",
        "find_max(2,3,4,5,6,7,8,9)\n"
      ],
      "metadata": {
        "id": "-B1etUUyH0-h",
        "outputId": "9e048656-fce4-473a-ddb1-445f27864755",
        "colab": {
          "base_uri": "https://localhost:8080/"
        }
      },
      "id": "-B1etUUyH0-h",
      "execution_count": 54,
      "outputs": [
        {
          "output_type": "stream",
          "name": "stdout",
          "text": [
            "9\n"
          ]
        }
      ]
    },
    {
      "cell_type": "markdown",
      "id": "5d99ddf7-24ba-4bc6-87fe-7ccabcdebeb4",
      "metadata": {
        "id": "5d99ddf7-24ba-4bc6-87fe-7ccabcdebeb4"
      },
      "source": [
        "Q8.\n",
        "\n",
        "Write a Python function calculate_rectangle that accepts the length and width of a rectangle as arguments. Inside this function, create two nested functions:\n",
        "\n",
        "- calculate_area: This function should calculate the area of the rectangle.\n",
        "- calculate_perimeter: This function should calculate the perimeter of the rectangle.\n",
        "- The main function should return both the area and the perimeter of the rectangle.\n",
        "\n",
        "Expected Output:\n",
        "\n",
        "Area: 15\n",
        "\n",
        "Perimeter: 16\n"
      ]
    },
    {
      "cell_type": "code",
      "source": [
        "def calculate_rectangle(length,width):\n",
        "  def calculate_area():\n",
        "    area = length*width\n",
        "    print(f\"Area : {area}\")\n",
        "\n",
        "  def calculate_perimeter():\n",
        "    perimeter = 2*(length + width)\n",
        "    print(f\"perimeter : {perimeter}\")\n",
        "  calculate_area()\n",
        "  calculate_perimeter()\n",
        "\n",
        "\n",
        "calculate_rectangle(4,6)"
      ],
      "metadata": {
        "id": "6H_49vlrKgIG",
        "outputId": "c0d68fa8-34bd-4518-bf7c-903f5208f9f4",
        "colab": {
          "base_uri": "https://localhost:8080/"
        }
      },
      "id": "6H_49vlrKgIG",
      "execution_count": 57,
      "outputs": [
        {
          "output_type": "stream",
          "name": "stdout",
          "text": [
            "Area : 24\n",
            "perimeter : 20\n"
          ]
        }
      ]
    },
    {
      "cell_type": "markdown",
      "id": "a668489b-a207-48a6-904e-fb7c2859e04d",
      "metadata": {
        "id": "a668489b-a207-48a6-904e-fb7c2859e04d"
      },
      "source": [
        "Q9. Write a Python function taxi_fare(distance, rate=100) that calculates the taxi fare.\n",
        "The default rate is 100 PKR per km, but the user can also enter a custom rate.\n",
        "\n",
        "FORMULA: distance * rate\n",
        "\n",
        "Expected Output:\n",
        "\n",
        "- Taxi fare for 10 km = 1000 PKR (using default parameter)\n",
        "- Taxi fare for 15 km = 1800 PKR (custom rate)"
      ]
    },
    {
      "cell_type": "code",
      "source": [
        "def taxi_fare(distance, rate=100):\n",
        "  Fare = distance * rate\n",
        "  print(f\"Taxi fare for {distance} Km = {Fare} PKR\")\n",
        "\n",
        "taxi_fare(10)\n",
        "taxi_fare(15,120)"
      ],
      "metadata": {
        "id": "Fc5kjf8BMtHe",
        "outputId": "943d4280-006d-42a8-c038-ab4dd43b4b87",
        "colab": {
          "base_uri": "https://localhost:8080/"
        }
      },
      "id": "Fc5kjf8BMtHe",
      "execution_count": 60,
      "outputs": [
        {
          "output_type": "stream",
          "name": "stdout",
          "text": [
            "Taxi fare for 10 Km = 1000 PKR\n",
            "Taxi fare for 15 Km = 1800 PKR\n"
          ]
        }
      ]
    },
    {
      "cell_type": "markdown",
      "id": "ed779581-c1bc-45a5-8971-687391e077a2",
      "metadata": {
        "id": "ed779581-c1bc-45a5-8971-687391e077a2"
      },
      "source": [
        "Q10.\n",
        "\n",
        "Write a Python function shopping_bill(price, quantity, discount=0) that uses nested functions:\n",
        "\n",
        "- An inner function calculate_total() → multiplies price * quantity.\n",
        "- An inner function apply_discount(total) → subtracts discount from total (but never below 0).\n",
        "\n",
        "The outer function should return the final bill amount.\n",
        "\n",
        "Expected Output:\n",
        "\n",
        "- Final Bill = 600 PKR (no discount)\n",
        "- Final Bill = 500 PKR (with discount)"
      ]
    },
    {
      "cell_type": "code",
      "execution_count": 85,
      "id": "ee0ac957-86e2-49bc-adc3-861ac984d055",
      "metadata": {
        "id": "ee0ac957-86e2-49bc-adc3-861ac984d055",
        "outputId": "64d9063f-bb69-4b5f-d9af-bc2d5641f1fb",
        "colab": {
          "base_uri": "https://localhost:8080/"
        }
      },
      "outputs": [
        {
          "output_type": "stream",
          "name": "stdout",
          "text": [
            "Final Bill = 600 PKR\n",
            "Final Bill = 500 PKR\n"
          ]
        }
      ],
      "source": [
        "def shopping_bill(price, quantity, discount=0):\n",
        "    def calculate_total():\n",
        "        return price * quantity\n",
        "\n",
        "    def apply_discount(total):\n",
        "        return max(0, total - discount)\n",
        "\n",
        "    total = calculate_total()\n",
        "    final_amount = apply_discount(total)\n",
        "    print(f\"Final Bill = {final_amount} PKR\")\n",
        "\n",
        "\n",
        "\n",
        "shopping_bill(200, 3)\n",
        "shopping_bill(200, 3, discount=100)\n"
      ]
    },
    {
      "cell_type": "code",
      "execution_count": null,
      "id": "41bfc859-bda5-4e9c-a882-06074b5aaa8a",
      "metadata": {
        "id": "41bfc859-bda5-4e9c-a882-06074b5aaa8a"
      },
      "outputs": [],
      "source": []
    },
    {
      "cell_type": "code",
      "execution_count": null,
      "id": "0f6dce26-23d8-440d-871f-9c5286747026",
      "metadata": {
        "id": "0f6dce26-23d8-440d-871f-9c5286747026"
      },
      "outputs": [],
      "source": []
    },
    {
      "cell_type": "code",
      "execution_count": null,
      "id": "d7242935-7424-4d92-a5e5-cbf66fe8ac52",
      "metadata": {
        "id": "d7242935-7424-4d92-a5e5-cbf66fe8ac52"
      },
      "outputs": [],
      "source": []
    }
  ],
  "metadata": {
    "kernelspec": {
      "display_name": "Python 3 (ipykernel)",
      "language": "python",
      "name": "python3"
    },
    "language_info": {
      "codemirror_mode": {
        "name": "ipython",
        "version": 3
      },
      "file_extension": ".py",
      "mimetype": "text/x-python",
      "name": "python",
      "nbconvert_exporter": "python",
      "pygments_lexer": "ipython3",
      "version": "3.12.7"
    },
    "colab": {
      "provenance": []
    }
  },
  "nbformat": 4,
  "nbformat_minor": 5
}